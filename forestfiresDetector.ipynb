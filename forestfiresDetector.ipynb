{
 "cells": [
  {
   "cell_type": "markdown",
   "id": "14b5ffc1-f6a2-4eaa-a910-af55256f1257",
   "metadata": {},
   "source": [
    "# Trabajo final mineria"
   ]
  },
  {
   "cell_type": "markdown",
   "id": "72d1c057",
   "metadata": {},
   "source": [
    "### por: Iñaki Luque y Ander Ros"
   ]
  },
  {
   "cell_type": "markdown",
   "id": "57d4413c",
   "metadata": {},
   "source": [
    "## Indice\n",
    "- [Librerias:](#Librerías-necesarias)\n",
    "- [Selección del problema:](#Selección-del-problema-y-motivación)\n",
    "- [Lectura Datos:](#Lectura-de-datos)\n",
    "- [Distribución Area:](#Distribución-de-la-variable-de-salida-Área)\n",
    "- [Cambio a clasificación:](#Cambio-a-problema-tipo-clasificacion)\n",
    "- [Valores nulos:](#Comprobación-de-valores-nulos)\n",
    "- [Tipo variables:](#Ver-tipo-variables)\n",
    "- [Transformación variables numéricas:](#Transformación-variables-categóricas-a-numéricas)\n",
    "- [Detección de outliers:](#Deteccion-de-outliers)\n",
    "     - [IQR Percentile:](#IQR-percentile)\n",
    "     - [Distribución variables tras deteccin outliers](#Distribución-variables-tras-detección-de-outliers)\n",
    "- [Análisis de correlaciones](#Analisis-de-correlaciones)\n",
    "- [Análisis del área quemada por meses](#Análisis-del-área-quemada-por-meses)\n",
    "- [Análisis del área quemada por días](#Análisis-del-área-quemada-por-días)\n",
    "- [Primera prueba:](#Pipeline-KNN:-primeras-pruebas-para-ver-el-funcionamiento-del-modelo)\n",
    "- [Preparación datos:](#Preparación-de-datos-a-entrenar,-con-los-cambios-descritos-previamente.)\n",
    "- [Selección de variables:](#Selección-de-variables)\n",
    "    - [Filtro ANOVA: Sin DC](#FILTRO-ANOVA:-Sin-DC)\n",
    "    - [Filtro ANOVA: con DC](#FILTRO-ANOVA:-con-DC)\n",
    "    - [Métodos basados en wrappers](#MÉTODOS-BASADOS-EN-WRAPPERS)\n",
    "        - [RFE: sin DC](#RFE:-sin-DC)\n",
    "        - [RFE: con DC](#RFE:-con-DC)\n",
    "        - [Sequential forward selection](#SEQUENTIAL-FORWARD-SELECTION)\n",
    "        - [Sequential backward selection](#SEQUENTIAL-BACKWARD-SELECTION)\n",
    "        - [RFECV](#RFECV)\n",
    "- [Predicciones:](#PREDICCIONES)\n",
    "    - [KNN:](#PREDICCION-ANOVA+KNN-CON-GRIDSEARCH)\n",
    "    - [Regresión logística](#Regresión-logística)\n",
    "    - [SVM](#SVM)\n",
    "    - [Decision tree](#Decision-tree)\n",
    "- [Métricas de rendimiento: ](#MÉTRICAS-DE-RENDIMIENTO)\n",
    "    - [Matrices de confusión: ](#Matrices-de-confusión)\n",
    "    - [Curva ROC: ](#Curva-ROC)\n",
    "- [Selección de instancias: ](#Seleccion-de-instancias:-COMPROBAMOS-QUE-NO-MEJORAN-NUESTRO-MODELO.-No-lo-hemos-acabado-implementandolo)\n",
    "- [Conclusiones finales: ](#Conclusiones-finales)\n"
   ]
  },
  {
   "cell_type": "markdown",
   "id": "3a76097c-7e73-4d96-a4ce-7cbcb37955e1",
   "metadata": {},
   "source": [
    "## Librerías necesarias"
   ]
  },
  {
   "cell_type": "code",
   "execution_count": 1,
   "id": "27760927-8d60-4308-8242-e73f5b1a0b2c",
   "metadata": {},
   "outputs": [],
   "source": [
    "import pandas as pd\n",
    "import numpy as np\n",
    "from matplotlib import pyplot as plt\n",
    "from sklearn import model_selection\n",
    "import category_encoders as ce\n",
    "from sklearn import preprocessing\n",
    "from sklearn.neighbors import KNeighborsClassifier\n",
    "from sklearn.metrics import accuracy_score\n",
    "from sklearn.pipeline import Pipeline\n",
    "from sklearn import feature_selection\n",
    "from scipy import stats\n",
    "from sklearn import tree\n",
    "from matplotlib.colors import ListedColormap\n",
    "from sklearn import metrics"
   ]
  },
  {
   "cell_type": "markdown",
   "id": "a09d0b3d-cedf-4595-9f30-713af97e60ae",
   "metadata": {},
   "source": [
    "## Selección del problema y motivación"
   ]
  },
  {
   "cell_type": "markdown",
   "id": "2406f539-7b52-490f-9cea-64a2382b9f04",
   "metadata": {},
   "source": [
    "Hemos elegido un dataset que predice el área afectada por incendios forestales."
   ]
  },
  {
   "cell_type": "markdown",
   "id": "8f074fd2-5c97-408f-bc89-806f23d2835b",
   "metadata": {},
   "source": [
    "## Lectura de datos"
   ]
  },
  {
   "cell_type": "code",
   "execution_count": 2,
   "id": "4c1dd01f",
   "metadata": {},
   "outputs": [
    {
     "data": {
      "text/html": [
       "<div>\n",
       "<style scoped>\n",
       "    .dataframe tbody tr th:only-of-type {\n",
       "        vertical-align: middle;\n",
       "    }\n",
       "\n",
       "    .dataframe tbody tr th {\n",
       "        vertical-align: top;\n",
       "    }\n",
       "\n",
       "    .dataframe thead th {\n",
       "        text-align: right;\n",
       "    }\n",
       "</style>\n",
       "<table border=\"1\" class=\"dataframe\">\n",
       "  <thead>\n",
       "    <tr style=\"text-align: right;\">\n",
       "      <th></th>\n",
       "      <th>X</th>\n",
       "      <th>Y</th>\n",
       "      <th>month</th>\n",
       "      <th>day</th>\n",
       "      <th>FFMC</th>\n",
       "      <th>DMC</th>\n",
       "      <th>DC</th>\n",
       "      <th>ISI</th>\n",
       "      <th>temp</th>\n",
       "      <th>RH</th>\n",
       "      <th>wind</th>\n",
       "      <th>rain</th>\n",
       "      <th>area</th>\n",
       "    </tr>\n",
       "  </thead>\n",
       "  <tbody>\n",
       "    <tr>\n",
       "      <th>0</th>\n",
       "      <td>7</td>\n",
       "      <td>5</td>\n",
       "      <td>mar</td>\n",
       "      <td>fri</td>\n",
       "      <td>86.2</td>\n",
       "      <td>26.2</td>\n",
       "      <td>94.3</td>\n",
       "      <td>5.1</td>\n",
       "      <td>8.2</td>\n",
       "      <td>51</td>\n",
       "      <td>6.7</td>\n",
       "      <td>0.0</td>\n",
       "      <td>0.0</td>\n",
       "    </tr>\n",
       "    <tr>\n",
       "      <th>1</th>\n",
       "      <td>7</td>\n",
       "      <td>4</td>\n",
       "      <td>oct</td>\n",
       "      <td>tue</td>\n",
       "      <td>90.6</td>\n",
       "      <td>35.4</td>\n",
       "      <td>669.1</td>\n",
       "      <td>6.7</td>\n",
       "      <td>18.0</td>\n",
       "      <td>33</td>\n",
       "      <td>0.9</td>\n",
       "      <td>0.0</td>\n",
       "      <td>0.0</td>\n",
       "    </tr>\n",
       "    <tr>\n",
       "      <th>2</th>\n",
       "      <td>7</td>\n",
       "      <td>4</td>\n",
       "      <td>oct</td>\n",
       "      <td>sat</td>\n",
       "      <td>90.6</td>\n",
       "      <td>43.7</td>\n",
       "      <td>686.9</td>\n",
       "      <td>6.7</td>\n",
       "      <td>14.6</td>\n",
       "      <td>33</td>\n",
       "      <td>1.3</td>\n",
       "      <td>0.0</td>\n",
       "      <td>0.0</td>\n",
       "    </tr>\n",
       "    <tr>\n",
       "      <th>3</th>\n",
       "      <td>8</td>\n",
       "      <td>6</td>\n",
       "      <td>mar</td>\n",
       "      <td>fri</td>\n",
       "      <td>91.7</td>\n",
       "      <td>33.3</td>\n",
       "      <td>77.5</td>\n",
       "      <td>9.0</td>\n",
       "      <td>8.3</td>\n",
       "      <td>97</td>\n",
       "      <td>4.0</td>\n",
       "      <td>0.2</td>\n",
       "      <td>0.0</td>\n",
       "    </tr>\n",
       "    <tr>\n",
       "      <th>4</th>\n",
       "      <td>8</td>\n",
       "      <td>6</td>\n",
       "      <td>mar</td>\n",
       "      <td>sun</td>\n",
       "      <td>89.3</td>\n",
       "      <td>51.3</td>\n",
       "      <td>102.2</td>\n",
       "      <td>9.6</td>\n",
       "      <td>11.4</td>\n",
       "      <td>99</td>\n",
       "      <td>1.8</td>\n",
       "      <td>0.0</td>\n",
       "      <td>0.0</td>\n",
       "    </tr>\n",
       "  </tbody>\n",
       "</table>\n",
       "</div>"
      ],
      "text/plain": [
       "   X  Y month  day  FFMC   DMC     DC  ISI  temp  RH  wind  rain  area\n",
       "0  7  5   mar  fri  86.2  26.2   94.3  5.1   8.2  51   6.7   0.0   0.0\n",
       "1  7  4   oct  tue  90.6  35.4  669.1  6.7  18.0  33   0.9   0.0   0.0\n",
       "2  7  4   oct  sat  90.6  43.7  686.9  6.7  14.6  33   1.3   0.0   0.0\n",
       "3  8  6   mar  fri  91.7  33.3   77.5  9.0   8.3  97   4.0   0.2   0.0\n",
       "4  8  6   mar  sun  89.3  51.3  102.2  9.6  11.4  99   1.8   0.0   0.0"
      ]
     },
     "execution_count": 2,
     "metadata": {},
     "output_type": "execute_result"
    }
   ],
   "source": [
    "datos = pd.read_csv(\"forestfires.csv\",na_values = '?')\n",
    "variablesAtEntrada = list(datos.columns)\n",
    "variablesAtEntrada.pop()\n",
    "variablesAtSalida = ['area']\n",
    "X = pd.DataFrame(datos[variablesAtEntrada].copy())\n",
    "y = pd.DataFrame(datos[variablesAtSalida].copy())\n",
    "y = y.values\n",
    "datos.head(5)"
   ]
  },
  {
   "cell_type": "markdown",
   "id": "98e2c596-14af-42f5-a195-3bef633bde6a",
   "metadata": {},
   "source": [
    "Informacion a priori del dataframe"
   ]
  },
  {
   "cell_type": "code",
   "execution_count": 3,
   "id": "0af208ed",
   "metadata": {},
   "outputs": [
    {
     "data": {
      "text/html": [
       "<div>\n",
       "<style scoped>\n",
       "    .dataframe tbody tr th:only-of-type {\n",
       "        vertical-align: middle;\n",
       "    }\n",
       "\n",
       "    .dataframe tbody tr th {\n",
       "        vertical-align: top;\n",
       "    }\n",
       "\n",
       "    .dataframe thead th {\n",
       "        text-align: right;\n",
       "    }\n",
       "</style>\n",
       "<table border=\"1\" class=\"dataframe\">\n",
       "  <thead>\n",
       "    <tr style=\"text-align: right;\">\n",
       "      <th></th>\n",
       "      <th>X</th>\n",
       "      <th>Y</th>\n",
       "      <th>FFMC</th>\n",
       "      <th>DMC</th>\n",
       "      <th>DC</th>\n",
       "      <th>ISI</th>\n",
       "      <th>temp</th>\n",
       "      <th>RH</th>\n",
       "      <th>wind</th>\n",
       "      <th>rain</th>\n",
       "    </tr>\n",
       "  </thead>\n",
       "  <tbody>\n",
       "    <tr>\n",
       "      <th>count</th>\n",
       "      <td>517.000000</td>\n",
       "      <td>517.000000</td>\n",
       "      <td>517.000000</td>\n",
       "      <td>517.000000</td>\n",
       "      <td>517.000000</td>\n",
       "      <td>517.000000</td>\n",
       "      <td>517.000000</td>\n",
       "      <td>517.000000</td>\n",
       "      <td>517.000000</td>\n",
       "      <td>517.000000</td>\n",
       "    </tr>\n",
       "    <tr>\n",
       "      <th>mean</th>\n",
       "      <td>4.669246</td>\n",
       "      <td>4.299807</td>\n",
       "      <td>90.644681</td>\n",
       "      <td>110.872340</td>\n",
       "      <td>547.940039</td>\n",
       "      <td>9.021663</td>\n",
       "      <td>18.889168</td>\n",
       "      <td>44.288201</td>\n",
       "      <td>4.017602</td>\n",
       "      <td>0.021663</td>\n",
       "    </tr>\n",
       "    <tr>\n",
       "      <th>std</th>\n",
       "      <td>2.313778</td>\n",
       "      <td>1.229900</td>\n",
       "      <td>5.520111</td>\n",
       "      <td>64.046482</td>\n",
       "      <td>248.066192</td>\n",
       "      <td>4.559477</td>\n",
       "      <td>5.806625</td>\n",
       "      <td>16.317469</td>\n",
       "      <td>1.791653</td>\n",
       "      <td>0.295959</td>\n",
       "    </tr>\n",
       "    <tr>\n",
       "      <th>min</th>\n",
       "      <td>1.000000</td>\n",
       "      <td>2.000000</td>\n",
       "      <td>18.700000</td>\n",
       "      <td>1.100000</td>\n",
       "      <td>7.900000</td>\n",
       "      <td>0.000000</td>\n",
       "      <td>2.200000</td>\n",
       "      <td>15.000000</td>\n",
       "      <td>0.400000</td>\n",
       "      <td>0.000000</td>\n",
       "    </tr>\n",
       "    <tr>\n",
       "      <th>25%</th>\n",
       "      <td>3.000000</td>\n",
       "      <td>4.000000</td>\n",
       "      <td>90.200000</td>\n",
       "      <td>68.600000</td>\n",
       "      <td>437.700000</td>\n",
       "      <td>6.500000</td>\n",
       "      <td>15.500000</td>\n",
       "      <td>33.000000</td>\n",
       "      <td>2.700000</td>\n",
       "      <td>0.000000</td>\n",
       "    </tr>\n",
       "    <tr>\n",
       "      <th>50%</th>\n",
       "      <td>4.000000</td>\n",
       "      <td>4.000000</td>\n",
       "      <td>91.600000</td>\n",
       "      <td>108.300000</td>\n",
       "      <td>664.200000</td>\n",
       "      <td>8.400000</td>\n",
       "      <td>19.300000</td>\n",
       "      <td>42.000000</td>\n",
       "      <td>4.000000</td>\n",
       "      <td>0.000000</td>\n",
       "    </tr>\n",
       "    <tr>\n",
       "      <th>75%</th>\n",
       "      <td>7.000000</td>\n",
       "      <td>5.000000</td>\n",
       "      <td>92.900000</td>\n",
       "      <td>142.400000</td>\n",
       "      <td>713.900000</td>\n",
       "      <td>10.800000</td>\n",
       "      <td>22.800000</td>\n",
       "      <td>53.000000</td>\n",
       "      <td>4.900000</td>\n",
       "      <td>0.000000</td>\n",
       "    </tr>\n",
       "    <tr>\n",
       "      <th>max</th>\n",
       "      <td>9.000000</td>\n",
       "      <td>9.000000</td>\n",
       "      <td>96.200000</td>\n",
       "      <td>291.300000</td>\n",
       "      <td>860.600000</td>\n",
       "      <td>56.100000</td>\n",
       "      <td>33.300000</td>\n",
       "      <td>100.000000</td>\n",
       "      <td>9.400000</td>\n",
       "      <td>6.400000</td>\n",
       "    </tr>\n",
       "  </tbody>\n",
       "</table>\n",
       "</div>"
      ],
      "text/plain": [
       "                X           Y        FFMC         DMC          DC         ISI  \\\n",
       "count  517.000000  517.000000  517.000000  517.000000  517.000000  517.000000   \n",
       "mean     4.669246    4.299807   90.644681  110.872340  547.940039    9.021663   \n",
       "std      2.313778    1.229900    5.520111   64.046482  248.066192    4.559477   \n",
       "min      1.000000    2.000000   18.700000    1.100000    7.900000    0.000000   \n",
       "25%      3.000000    4.000000   90.200000   68.600000  437.700000    6.500000   \n",
       "50%      4.000000    4.000000   91.600000  108.300000  664.200000    8.400000   \n",
       "75%      7.000000    5.000000   92.900000  142.400000  713.900000   10.800000   \n",
       "max      9.000000    9.000000   96.200000  291.300000  860.600000   56.100000   \n",
       "\n",
       "             temp          RH        wind        rain  \n",
       "count  517.000000  517.000000  517.000000  517.000000  \n",
       "mean    18.889168   44.288201    4.017602    0.021663  \n",
       "std      5.806625   16.317469    1.791653    0.295959  \n",
       "min      2.200000   15.000000    0.400000    0.000000  \n",
       "25%     15.500000   33.000000    2.700000    0.000000  \n",
       "50%     19.300000   42.000000    4.000000    0.000000  \n",
       "75%     22.800000   53.000000    4.900000    0.000000  \n",
       "max     33.300000  100.000000    9.400000    6.400000  "
      ]
     },
     "execution_count": 3,
     "metadata": {},
     "output_type": "execute_result"
    }
   ],
   "source": [
    "X.describe()"
   ]
  },
  {
   "cell_type": "markdown",
   "id": "c4257b18-78ca-4e59-a03f-47e0b35d5fcc",
   "metadata": {},
   "source": [
    "## Distribución de la variable de salida Área"
   ]
  },
  {
   "cell_type": "code",
   "execution_count": 4,
   "id": "b51e5645",
   "metadata": {},
   "outputs": [
    {
     "data": {
      "text/plain": [
       "(array([508.,   6.,   1.,   0.,   0.,   0.,   1.,   0.,   0.,   1.]),\n",
       " array([   0.   ,  109.084,  218.168,  327.252,  436.336,  545.42 ,\n",
       "         654.504,  763.588,  872.672,  981.756, 1090.84 ]),\n",
       " <BarContainer object of 10 artists>)"
      ]
     },
     "execution_count": 4,
     "metadata": {},
     "output_type": "execute_result"
    },
    {
     "data": {
      "image/png": "[encoded data removed]",
      "text/plain": [
       "<Figure size 432x288 with 1 Axes>"
      ]
     },
     "metadata": {
      "needs_background": "light"
     },
     "output_type": "display_data"
    }
   ],
   "source": [
    "plt.hist(y)"
   ]
  },
  {
   "cell_type": "markdown",
   "id": "204b580c-2adc-419b-9bef-f770fb309474",
   "metadata": {},
   "source": [
    "Podemos ver que la distribución del área quemada esta muy sesgada hacia el 0, por lo que hemos decidido cambiar el tipo de problema a clasificación. Donde si no hay superficie quemada la clase será 0 y si hay área quemada pertenecerá a la clase 1."
   ]
  },
  {
   "cell_type": "markdown",
   "id": "a74141b0-8688-4b44-82ef-4d0c8f4d8511",
   "metadata": {},
   "source": [
    "## Cambio a problema tipo clasificacion"
   ]
  },
  {
   "cell_type": "code",
   "execution_count": 5,
   "id": "0d68bc2c",
   "metadata": {},
   "outputs": [],
   "source": [
    "yClass = y.copy()\n",
    "yClass[yClass>0] = 1"
   ]
  },
  {
   "cell_type": "code",
   "execution_count": 6,
   "id": "22df34b0",
   "metadata": {},
   "outputs": [
    {
     "data": {
      "text/plain": [
       "(array([247.,   0.,   0.,   0.,   0.,   0.,   0.,   0.,   0., 270.]),\n",
       " array([0. , 0.1, 0.2, 0.3, 0.4, 0.5, 0.6, 0.7, 0.8, 0.9, 1. ]),\n",
       " <BarContainer object of 10 artists>)"
      ]
     },
     "execution_count": 6,
     "metadata": {},
     "output_type": "execute_result"
    },
    {
     "data": {
      "image/png": "[encoded data removed]",
      "text/plain": [
       "<Figure size 432x288 with 1 Axes>"
      ]
     },
     "metadata": {
      "needs_background": "light"
     },
     "output_type": "display_data"
    }
   ],
   "source": [
    "plt.hist(yClass)"
   ]
  },
  {
   "cell_type": "markdown",
   "id": "c8115f21-9af9-4872-a0a1-38ddff721f33",
   "metadata": {},
   "source": [
    "Las clases ahora están balanceadas. Por lo que no vamos a tener que hacer uso de técnicas de Over-sampling ni de Under-Sampling"
   ]
  },
  {
   "cell_type": "markdown",
   "id": "19c72eb9",
   "metadata": {},
   "source": [
    "### MODIFICACION AREA REGRESIÓN: SI QUISIEREAMOS PLANTEAR EL PROBLEMA PARA REGRESIÓN"
   ]
  },
  {
   "cell_type": "code",
   "execution_count": 7,
   "id": "241d712c",
   "metadata": {},
   "outputs": [
    {
     "data": {
      "text/plain": [
       "(array([275.,  61.,  59.,  54.,  29.,  21.,   9.,   6.,   1.,   2.]),\n",
       " array([0.        , 0.69956196, 1.39912393, 2.09868589, 2.79824785,\n",
       "        3.49780981, 4.19737178, 4.89693374, 5.5964957 , 6.29605766,\n",
       "        6.99561963]),\n",
       " <BarContainer object of 10 artists>)"
      ]
     },
     "execution_count": 7,
     "metadata": {},
     "output_type": "execute_result"
    },
    {
     "data": {
      "image/png": "[encoded data removed]",
      "text/plain": [
       "<Figure size 432x288 with 1 Axes>"
      ]
     },
     "metadata": {
      "needs_background": "light"
     },
     "output_type": "display_data"
    }
   ],
   "source": [
    "yReg = y.copy()\n",
    "yReg = np.log(yReg+1)\n",
    "plt.hist(yReg)"
   ]
  },
  {
   "cell_type": "markdown",
   "id": "a9be1a97-46da-4b3b-a668-f2e125127f5c",
   "metadata": {},
   "source": [
    "En el caso de que queramos realizar el problema para regresión transformaríamos la variable usando una función logarítmica. Como podemos comprobar se redistribuye mejor los valores de la variable"
   ]
  },
  {
   "cell_type": "markdown",
   "id": "ade3609e-2c29-4a29-895a-d42a9436c9ed",
   "metadata": {},
   "source": [
    "## Comprobación de valores nulos"
   ]
  },
  {
   "cell_type": "code",
   "execution_count": 8,
   "id": "1c7a32c6",
   "metadata": {},
   "outputs": [
    {
     "data": {
      "text/html": [
       "<div>\n",
       "<style scoped>\n",
       "    .dataframe tbody tr th:only-of-type {\n",
       "        vertical-align: middle;\n",
       "    }\n",
       "\n",
       "    .dataframe tbody tr th {\n",
       "        vertical-align: top;\n",
       "    }\n",
       "\n",
       "    .dataframe thead th {\n",
       "        text-align: right;\n",
       "    }\n",
       "</style>\n",
       "<table border=\"1\" class=\"dataframe\">\n",
       "  <thead>\n",
       "    <tr style=\"text-align: right;\">\n",
       "      <th></th>\n",
       "      <th>X</th>\n",
       "      <th>Y</th>\n",
       "      <th>month</th>\n",
       "      <th>day</th>\n",
       "      <th>FFMC</th>\n",
       "      <th>DMC</th>\n",
       "      <th>DC</th>\n",
       "      <th>ISI</th>\n",
       "      <th>temp</th>\n",
       "      <th>RH</th>\n",
       "      <th>wind</th>\n",
       "      <th>rain</th>\n",
       "      <th>area</th>\n",
       "    </tr>\n",
       "  </thead>\n",
       "  <tbody>\n",
       "  </tbody>\n",
       "</table>\n",
       "</div>"
      ],
      "text/plain": [
       "Empty DataFrame\n",
       "Columns: [X, Y, month, day, FFMC, DMC, DC, ISI, temp, RH, wind, rain, area]\n",
       "Index: []"
      ]
     },
     "execution_count": 8,
     "metadata": {},
     "output_type": "execute_result"
    }
   ],
   "source": [
    "datos[datos.isnull().any(axis=1)]"
   ]
  },
  {
   "cell_type": "markdown",
   "id": "0aa8a18c-ee77-43aa-906a-e72578f06d0a",
   "metadata": {},
   "source": [
    "Podemos comprobar que no hay valores nulos en nuestro dataset. No va a ser necesario aplicar ninguna técnica de imputación."
   ]
  },
  {
   "cell_type": "markdown",
   "id": "4facb944-8537-4441-a160-d34e91d69c28",
   "metadata": {},
   "source": [
    "## Ver tipo variables"
   ]
  },
  {
   "cell_type": "code",
   "execution_count": 9,
   "id": "db1e43ca",
   "metadata": {},
   "outputs": [
    {
     "name": "stdout",
     "output_type": "stream",
     "text": [
      "Variables categóricas :  ['month', 'day']\n",
      "Variables numéricas :  ['X', 'Y', 'FFMC', 'DMC', 'DC', 'ISI', 'temp', 'RH', 'wind', 'rain']\n"
     ]
    }
   ],
   "source": [
    "variables_categoricas = X.columns[X.dtypes == object].tolist()\n",
    "variables_numericas = X.columns[X.dtypes != object].tolist()\n",
    "print('Variables categóricas : ',variables_categoricas)\n",
    "print('Variables numéricas : ', variables_numericas)\n",
    "y = yClass"
   ]
  },
  {
   "cell_type": "markdown",
   "id": "7fa57d2d-c827-4a66-9596-7f706195f44b",
   "metadata": {},
   "source": [
    "#### Hacemos una copia de la X para hacer pruebas"
   ]
  },
  {
   "cell_type": "code",
   "execution_count": 10,
   "id": "fe1fe54b-741a-4a1d-8f2e-a675e0810b17",
   "metadata": {},
   "outputs": [],
   "source": [
    "Xwork = X.copy()"
   ]
  },
  {
   "cell_type": "markdown",
   "id": "484ba657-4a41-4ca1-b6ef-834ad443ec25",
   "metadata": {},
   "source": [
    "### Transformación variables categóricas a numéricas"
   ]
  },
  {
   "cell_type": "markdown",
   "id": "a60d4b9f-6707-4b9c-aa4f-acf4ff9e1dd0",
   "metadata": {},
   "source": [
    "Hemos usado codificación ordinal para los meses y los días, ya que estas variables siguen un orden. Lo mapeamos para poner el orden con que el vamos a trabajar."
   ]
  },
  {
   "cell_type": "code",
   "execution_count": 11,
   "id": "441fddfd-b8c3-45dd-a2ee-58be55ceb44f",
   "metadata": {},
   "outputs": [
    {
     "data": {
      "text/html": [
       "<div>\n",
       "<style scoped>\n",
       "    .dataframe tbody tr th:only-of-type {\n",
       "        vertical-align: middle;\n",
       "    }\n",
       "\n",
       "    .dataframe tbody tr th {\n",
       "        vertical-align: top;\n",
       "    }\n",
       "\n",
       "    .dataframe thead th {\n",
       "        text-align: right;\n",
       "    }\n",
       "</style>\n",
       "<table border=\"1\" class=\"dataframe\">\n",
       "  <thead>\n",
       "    <tr style=\"text-align: right;\">\n",
       "      <th></th>\n",
       "      <th>X</th>\n",
       "      <th>Y</th>\n",
       "      <th>month</th>\n",
       "      <th>day</th>\n",
       "      <th>FFMC</th>\n",
       "      <th>DMC</th>\n",
       "      <th>DC</th>\n",
       "      <th>ISI</th>\n",
       "      <th>temp</th>\n",
       "      <th>RH</th>\n",
       "      <th>wind</th>\n",
       "      <th>rain</th>\n",
       "    </tr>\n",
       "  </thead>\n",
       "  <tbody>\n",
       "    <tr>\n",
       "      <th>0</th>\n",
       "      <td>7</td>\n",
       "      <td>5</td>\n",
       "      <td>2</td>\n",
       "      <td>4</td>\n",
       "      <td>86.2</td>\n",
       "      <td>26.2</td>\n",
       "      <td>94.3</td>\n",
       "      <td>5.1</td>\n",
       "      <td>8.2</td>\n",
       "      <td>51</td>\n",
       "      <td>6.7</td>\n",
       "      <td>0.0</td>\n",
       "    </tr>\n",
       "    <tr>\n",
       "      <th>1</th>\n",
       "      <td>7</td>\n",
       "      <td>4</td>\n",
       "      <td>9</td>\n",
       "      <td>1</td>\n",
       "      <td>90.6</td>\n",
       "      <td>35.4</td>\n",
       "      <td>669.1</td>\n",
       "      <td>6.7</td>\n",
       "      <td>18.0</td>\n",
       "      <td>33</td>\n",
       "      <td>0.9</td>\n",
       "      <td>0.0</td>\n",
       "    </tr>\n",
       "    <tr>\n",
       "      <th>2</th>\n",
       "      <td>7</td>\n",
       "      <td>4</td>\n",
       "      <td>9</td>\n",
       "      <td>5</td>\n",
       "      <td>90.6</td>\n",
       "      <td>43.7</td>\n",
       "      <td>686.9</td>\n",
       "      <td>6.7</td>\n",
       "      <td>14.6</td>\n",
       "      <td>33</td>\n",
       "      <td>1.3</td>\n",
       "      <td>0.0</td>\n",
       "    </tr>\n",
       "    <tr>\n",
       "      <th>3</th>\n",
       "      <td>8</td>\n",
       "      <td>6</td>\n",
       "      <td>2</td>\n",
       "      <td>4</td>\n",
       "      <td>91.7</td>\n",
       "      <td>33.3</td>\n",
       "      <td>77.5</td>\n",
       "      <td>9.0</td>\n",
       "      <td>8.3</td>\n",
       "      <td>97</td>\n",
       "      <td>4.0</td>\n",
       "      <td>0.2</td>\n",
       "    </tr>\n",
       "    <tr>\n",
       "      <th>4</th>\n",
       "      <td>8</td>\n",
       "      <td>6</td>\n",
       "      <td>2</td>\n",
       "      <td>6</td>\n",
       "      <td>89.3</td>\n",
       "      <td>51.3</td>\n",
       "      <td>102.2</td>\n",
       "      <td>9.6</td>\n",
       "      <td>11.4</td>\n",
       "      <td>99</td>\n",
       "      <td>1.8</td>\n",
       "      <td>0.0</td>\n",
       "    </tr>\n",
       "    <tr>\n",
       "      <th>...</th>\n",
       "      <td>...</td>\n",
       "      <td>...</td>\n",
       "      <td>...</td>\n",
       "      <td>...</td>\n",
       "      <td>...</td>\n",
       "      <td>...</td>\n",
       "      <td>...</td>\n",
       "      <td>...</td>\n",
       "      <td>...</td>\n",
       "      <td>...</td>\n",
       "      <td>...</td>\n",
       "      <td>...</td>\n",
       "    </tr>\n",
       "    <tr>\n",
       "      <th>512</th>\n",
       "      <td>4</td>\n",
       "      <td>3</td>\n",
       "      <td>7</td>\n",
       "      <td>6</td>\n",
       "      <td>81.6</td>\n",
       "      <td>56.7</td>\n",
       "      <td>665.6</td>\n",
       "      <td>1.9</td>\n",
       "      <td>27.8</td>\n",
       "      <td>32</td>\n",
       "      <td>2.7</td>\n",
       "      <td>0.0</td>\n",
       "    </tr>\n",
       "    <tr>\n",
       "      <th>513</th>\n",
       "      <td>2</td>\n",
       "      <td>4</td>\n",
       "      <td>7</td>\n",
       "      <td>6</td>\n",
       "      <td>81.6</td>\n",
       "      <td>56.7</td>\n",
       "      <td>665.6</td>\n",
       "      <td>1.9</td>\n",
       "      <td>21.9</td>\n",
       "      <td>71</td>\n",
       "      <td>5.8</td>\n",
       "      <td>0.0</td>\n",
       "    </tr>\n",
       "    <tr>\n",
       "      <th>514</th>\n",
       "      <td>7</td>\n",
       "      <td>4</td>\n",
       "      <td>7</td>\n",
       "      <td>6</td>\n",
       "      <td>81.6</td>\n",
       "      <td>56.7</td>\n",
       "      <td>665.6</td>\n",
       "      <td>1.9</td>\n",
       "      <td>21.2</td>\n",
       "      <td>70</td>\n",
       "      <td>6.7</td>\n",
       "      <td>0.0</td>\n",
       "    </tr>\n",
       "    <tr>\n",
       "      <th>515</th>\n",
       "      <td>1</td>\n",
       "      <td>4</td>\n",
       "      <td>7</td>\n",
       "      <td>5</td>\n",
       "      <td>94.4</td>\n",
       "      <td>146.0</td>\n",
       "      <td>614.7</td>\n",
       "      <td>11.3</td>\n",
       "      <td>25.6</td>\n",
       "      <td>42</td>\n",
       "      <td>4.0</td>\n",
       "      <td>0.0</td>\n",
       "    </tr>\n",
       "    <tr>\n",
       "      <th>516</th>\n",
       "      <td>6</td>\n",
       "      <td>3</td>\n",
       "      <td>10</td>\n",
       "      <td>1</td>\n",
       "      <td>79.5</td>\n",
       "      <td>3.0</td>\n",
       "      <td>106.7</td>\n",
       "      <td>1.1</td>\n",
       "      <td>11.8</td>\n",
       "      <td>31</td>\n",
       "      <td>4.5</td>\n",
       "      <td>0.0</td>\n",
       "    </tr>\n",
       "  </tbody>\n",
       "</table>\n",
       "<p>517 rows × 12 columns</p>\n",
       "</div>"
      ],
      "text/plain": [
       "     X  Y  month  day  FFMC    DMC     DC   ISI  temp  RH  wind  rain\n",
       "0    7  5      2    4  86.2   26.2   94.3   5.1   8.2  51   6.7   0.0\n",
       "1    7  4      9    1  90.6   35.4  669.1   6.7  18.0  33   0.9   0.0\n",
       "2    7  4      9    5  90.6   43.7  686.9   6.7  14.6  33   1.3   0.0\n",
       "3    8  6      2    4  91.7   33.3   77.5   9.0   8.3  97   4.0   0.2\n",
       "4    8  6      2    6  89.3   51.3  102.2   9.6  11.4  99   1.8   0.0\n",
       "..  .. ..    ...  ...   ...    ...    ...   ...   ...  ..   ...   ...\n",
       "512  4  3      7    6  81.6   56.7  665.6   1.9  27.8  32   2.7   0.0\n",
       "513  2  4      7    6  81.6   56.7  665.6   1.9  21.9  71   5.8   0.0\n",
       "514  7  4      7    6  81.6   56.7  665.6   1.9  21.2  70   6.7   0.0\n",
       "515  1  4      7    5  94.4  146.0  614.7  11.3  25.6  42   4.0   0.0\n",
       "516  6  3     10    1  79.5    3.0  106.7   1.1  11.8  31   4.5   0.0\n",
       "\n",
       "[517 rows x 12 columns]"
      ]
     },
     "execution_count": 11,
     "metadata": {},
     "output_type": "execute_result"
    }
   ],
   "source": [
    "mapping = [\n",
    "    {\n",
    "        'col':'month',\n",
    "        'mapping':{\n",
    "            'jan':0,\n",
    "            'feb':1,\n",
    "            'mar':2,\n",
    "            'apr':3,\n",
    "            'may':4,\n",
    "            'jun':5,\n",
    "            'jul':6,\n",
    "            'aug':7,\n",
    "            'sep':8,\n",
    "            'oct':9,\n",
    "            'nov':10,\n",
    "            'dec':11\n",
    "        }\n",
    "    },\n",
    "    {\n",
    "        'col':'day',\n",
    "        'mapping':{\n",
    "            'mon':0,\n",
    "            'tue':1,\n",
    "            'wed':2,\n",
    "            'thu':3,\n",
    "            'fri':4,\n",
    "            'sat':5,\n",
    "            'sun':6\n",
    "        }\n",
    "    }\n",
    "]\n",
    "\n",
    "ordinal = ce.ordinal.OrdinalEncoder(mapping=mapping)\n",
    "Xwork=ordinal.fit_transform(Xwork)\n",
    "Xwork"
   ]
  },
  {
   "cell_type": "markdown",
   "id": "ac7c245e-adc5-4830-97de-4747a97cc86a",
   "metadata": {},
   "source": [
    "## Deteccion de outliers"
   ]
  },
  {
   "cell_type": "markdown",
   "id": "d6651e61-3d61-46a7-9c1c-4f6bee8b3def",
   "metadata": {},
   "source": [
    "Ploteamos el distribución de cada variable, para ver si tienen outliers."
   ]
  },
  {
   "cell_type": "code",
   "execution_count": 12,
   "id": "43cccdb4",
   "metadata": {},
   "outputs": [
    {
     "data": {
      "image/png": "[encoded data removed]",
      "text/plain": [
       "<Figure size 1152x720 with 12 Axes>"
      ]
     },
     "metadata": {
      "needs_background": "light"
     },
     "output_type": "display_data"
    }
   ],
   "source": [
    "Xwork[variables_numericas].hist(figsize=(16,10),bins = 20)\n",
    "plt.show()"
   ]
  },
  {
   "cell_type": "markdown",
   "id": "f25b0442-28b5-40c7-be64-c695208d389b",
   "metadata": {},
   "source": [
    "También comprobamos el rango intercuantil."
   ]
  },
  {
   "cell_type": "code",
   "execution_count": 13,
   "id": "99c5339c-def5-4047-a75d-9dae23946dd0",
   "metadata": {},
   "outputs": [
    {
     "data": {
      "text/plain": [
       "X           AxesSubplot(0.125,0.71587;0.227941x0.16413)\n",
       "Y        AxesSubplot(0.398529,0.71587;0.227941x0.16413)\n",
       "FFMC     AxesSubplot(0.672059,0.71587;0.227941x0.16413)\n",
       "DMC        AxesSubplot(0.125,0.518913;0.227941x0.16413)\n",
       "DC      AxesSubplot(0.398529,0.518913;0.227941x0.16413)\n",
       "ISI     AxesSubplot(0.672059,0.518913;0.227941x0.16413)\n",
       "temp       AxesSubplot(0.125,0.321957;0.227941x0.16413)\n",
       "RH      AxesSubplot(0.398529,0.321957;0.227941x0.16413)\n",
       "wind    AxesSubplot(0.672059,0.321957;0.227941x0.16413)\n",
       "rain          AxesSubplot(0.125,0.125;0.227941x0.16413)\n",
       "dtype: object"
      ]
     },
     "execution_count": 13,
     "metadata": {},
     "output_type": "execute_result"
    },
    {
     "data": {
      "image/png": "[encoded data removed]",
      "text/plain": [
       "<Figure size 1152x720 with 12 Axes>"
      ]
     },
     "metadata": {
      "needs_background": "light"
     },
     "output_type": "display_data"
    }
   ],
   "source": [
    "Xwork[variables_numericas].plot(kind = 'box', subplots = True, layout = (4,3) , sharex = False, sharey = False, figsize=(16,10))"
   ]
  },
  {
   "cell_type": "markdown",
   "id": "a480a7ed-8cff-48cb-aaa6-ac5267162a0e",
   "metadata": {},
   "source": [
    "Hemos observado outliers en las variables de : FFMC, ISI, rain , RH Y DMC. En variables como wind, temp, DC e Y hay una presencia menor de outliers. Aun asi decidimos al final tratar todos las variables numéricas.\n",
    "    "
   ]
  },
  {
   "cell_type": "markdown",
   "id": "7d9a93d1-1691-4762-bd33-e7b2659b909c",
   "metadata": {},
   "source": [
    "\n",
    "## IQR percentile"
   ]
  },
  {
   "cell_type": "markdown",
   "id": "eadd3319-86cf-4c4d-86f3-21e57df0ebf0",
   "metadata": {},
   "source": [
    "Hemos decidido aplicar este método frente al basado en estadística (de de la media con la desviación) porque puede generar muchos falsos positivos."
   ]
  },
  {
   "cell_type": "code",
   "execution_count": 14,
   "id": "53d2ea44",
   "metadata": {},
   "outputs": [],
   "source": [
    "# Importamos la clase TransformerMixin\n",
    "from sklearn.base import TransformerMixin\n",
    "\n",
    "# Creamos la clase de detección y tratamiento de Outliers\n",
    "class OutlierDetecion_treatment_IQR(TransformerMixin):\n",
    "\n",
    "    # Constructor de la clase\n",
    "    def __init__(self, k=1.5):\n",
    "        self.k=k\n",
    "    \n",
    "    # Método fit\n",
    "    def fit(self, X, y=None):\n",
    "        self.stats = X.describe()\n",
    "        # Devolvemos el propio objeto modificado\n",
    "        return self\n",
    "\n",
    "    # Método transform\n",
    "    def transform(self, X):\n",
    "        # Creamos una copia del DataFrame X para no perder los datos originales\n",
    "        Xaux = X.copy()\n",
    "        variables_numericas = Xaux.columns[Xaux.dtypes != object].tolist()\n",
    "        # Se calcula el IQR de cada variable\n",
    "        IQRs = self.stats.loc['75%',:] - self.stats.loc['25%',:]\n",
    "        # Se calculan los límites inferiores y superiores   \n",
    "        limiteInf = self.stats.loc['25%',:] - (self.k*IQRs)\n",
    "        limiteSup = self.stats.loc['75%',:] + (self.k*IQRs)\n",
    "        # Se comprueba qué elementos están por encima y por debajo de dichos límites (máscaras de booleanos)\n",
    "        menores = Xaux.loc[:,variables_numericas] < limiteInf\n",
    "        mayores = Xaux.loc[:,variables_numericas] > limiteSup\n",
    "        # Se recorren las variables para detectar outliers y tratarlos (sustituir por la mediana de la variable)\n",
    "        for c in variables_numericas:\n",
    "            # obtenemos los índices de los outliers: creamos una lista (tolist) con el resultado del logical_or        \n",
    "            indices = np.logical_or(menores[c],mayores[c]).tolist()\n",
    "            # Si hay outliers\n",
    "            # <RELLENAR>\n",
    "            if True in indices:\n",
    "                # Obtenemos los valores del índice del DataFrame (.index) de dichos outliers y los pasamos a una lista (.flatten())\n",
    "                indices = np.argwhere(indices).flatten()\n",
    "                indices = Xaux.index[indices]\n",
    "                # Los sustituimos por la mediana\n",
    "                # <RELLENAR>\n",
    "                Xaux.loc[indices,c] =self.stats.loc['50%',c]\n",
    "        # Se devuelve el DataFrame modificado\n",
    "        return Xaux\n",
    "    \n",
    "    # Método para asignar los valores de los híper-parámetros y que, de este modo, \n",
    "        # podamos aplicar GridSearchCV sobre un objeto de esta clase\n",
    "    def set_params(self, **parameters):\n",
    "        for parameter, value in parameters.items():\n",
    "            setattr(self, parameter, value)\n",
    "        return self"
   ]
  },
  {
   "cell_type": "markdown",
   "id": "500c3a73-3ad3-4bc1-b32d-dab449189216",
   "metadata": {},
   "source": [
    "## Distribución variables tras detección de outliers"
   ]
  },
  {
   "cell_type": "code",
   "execution_count": 15,
   "id": "9895938a",
   "metadata": {},
   "outputs": [],
   "source": [
    "X_train, X_test, y_train, y_test = model_selection.train_test_split(Xwork,y,train_size = 0.8,stratify=y,random_state=42)\n",
    "\n",
    "out = OutlierDetecion_treatment_IQR(3)\n",
    "X_IQRwork = out.fit_transform(X_train)"
   ]
  },
  {
   "cell_type": "code",
   "execution_count": 16,
   "id": "54311c7e-fb1c-4ff0-b3cb-bdbf9093596b",
   "metadata": {},
   "outputs": [
    {
     "data": {
      "text/plain": [
       "X           AxesSubplot(0.125,0.71587;0.227941x0.16413)\n",
       "Y        AxesSubplot(0.398529,0.71587;0.227941x0.16413)\n",
       "FFMC     AxesSubplot(0.672059,0.71587;0.227941x0.16413)\n",
       "DMC        AxesSubplot(0.125,0.518913;0.227941x0.16413)\n",
       "DC      AxesSubplot(0.398529,0.518913;0.227941x0.16413)\n",
       "ISI     AxesSubplot(0.672059,0.518913;0.227941x0.16413)\n",
       "temp       AxesSubplot(0.125,0.321957;0.227941x0.16413)\n",
       "RH      AxesSubplot(0.398529,0.321957;0.227941x0.16413)\n",
       "wind    AxesSubplot(0.672059,0.321957;0.227941x0.16413)\n",
       "rain          AxesSubplot(0.125,0.125;0.227941x0.16413)\n",
       "dtype: object"
      ]
     },
     "execution_count": 16,
     "metadata": {},
     "output_type": "execute_result"
    },
    {
     "data": {
      "image/png": "[encoded data removed]",
      "text/plain": [
       "<Figure size 1152x720 with 12 Axes>"
      ]
     },
     "metadata": {
      "needs_background": "light"
     },
     "output_type": "display_data"
    },
    {
     "data": {
      "image/png": "[encoded data removed]",
      "text/plain": [
       "<Figure size 1152x720 with 12 Axes>"
      ]
     },
     "metadata": {
      "needs_background": "light"
     },
     "output_type": "display_data"
    }
   ],
   "source": [
    "X_IQRwork[variables_numericas].hist(figsize=(16,10),bins = 20)\n",
    "\n",
    "X_IQRwork[variables_numericas].plot(kind = 'box', subplots = True, layout = (4,3) , sharex = False, sharey = False, figsize=(16,10))"
   ]
  },
  {
   "cell_type": "markdown",
   "id": "ad6b3446-5d86-4242-b7ab-4deda0f1e62a",
   "metadata": {},
   "source": [
    "#### Cambios después de aplicar IQR"
   ]
  },
  {
   "cell_type": "markdown",
   "id": "32810da4-319a-45a2-83ec-55f6719e8079",
   "metadata": {},
   "source": [
    "Podemos observar que los outliers han sido eliminados correctamente."
   ]
  },
  {
   "cell_type": "markdown",
   "id": "91b7284a-81da-4f17-9b57-6ae1dadb2d10",
   "metadata": {},
   "source": [
    "## Analisis de correlaciones"
   ]
  },
  {
   "cell_type": "markdown",
   "id": "92480964-c1b1-4fe7-80bf-39de1e6abba7",
   "metadata": {},
   "source": [
    "Analizamos la correlación de variables tras tratar los outliers."
   ]
  },
  {
   "cell_type": "code",
   "execution_count": 17,
   "id": "4cc23de7",
   "metadata": {},
   "outputs": [
    {
     "data": {
      "image/png": "[encoded data removed]",
      "text/plain": [
       "<Figure size 3600x3600 with 2 Axes>"
      ]
     },
     "metadata": {
      "needs_background": "light"
     },
     "output_type": "display_data"
    }
   ],
   "source": [
    "import matplotlib.pyplot as plt\n",
    "\n",
    "# Calculamos la matriz de correlaciones con la función corr de pandas sobre los datos de train\n",
    "correlaciones = X_IQRwork.corr()\n",
    "\n",
    "# Mostramos la matriz de correlaciones especificando el rango de los valores [-1, 1]\n",
    "fig = plt.figure(figsize=(50,50))\n",
    "ax = fig.add_subplot(111)\n",
    "cax = ax.matshow(correlaciones, vmin=-1, vmax=1, cmap=plt.cm.rainbow)\n",
    "fig.colorbar(cax)\n",
    "ticks = np.arange(0,len(X_IQRwork.columns),1)\n",
    "ax.set_xticks(ticks)\n",
    "ax.set_yticks(ticks)\n",
    "# Añadimos los nombres de las variables en la figura\n",
    "names = X_IQRwork.columns\n",
    "ax.set_xticklabels(names)\n",
    "ax.set_yticklabels(names)\n",
    "plt.show()"
   ]
  },
  {
   "cell_type": "markdown",
   "id": "7a5dcad6-01c8-442a-93bc-8f9e796eadd3",
   "metadata": {},
   "source": [
    "Observamos que tras la detección de outliers en la variable rain todos los valores se han quedado a 0. Esto se debe a que la mayoría de los valores son cero. Para conservar esta información decidimos transformar esta variable a categórica. "
   ]
  },
  {
   "cell_type": "code",
   "execution_count": 18,
   "id": "c1e119a1-3623-419c-960f-1f63bdd28de0",
   "metadata": {},
   "outputs": [],
   "source": [
    "mask = Xwork['rain']>0 \n",
    "Xwork.loc[mask,'rain'] = 1\n",
    "X_IQRwork['rain'] = Xwork['rain']"
   ]
  },
  {
   "cell_type": "code",
   "execution_count": 19,
   "id": "803416b9-7186-4466-8777-19e0211428c8",
   "metadata": {},
   "outputs": [
    {
     "data": {
      "image/png": "[encoded data removed]",
      "text/plain": [
       "<Figure size 3600x3600 with 2 Axes>"
      ]
     },
     "metadata": {
      "needs_background": "light"
     },
     "output_type": "display_data"
    }
   ],
   "source": [
    "import matplotlib.pyplot as plt\n",
    "\n",
    "# Calculamos la matriz de correlaciones con la función corr de pandas sobre los datos de train\n",
    "correlaciones = X_IQRwork.corr()\n",
    "\n",
    "# Mostramos la matriz de correlaciones especificando el rango de los valores [-1, 1]\n",
    "fig = plt.figure(figsize=(50,50))\n",
    "ax = fig.add_subplot(111)\n",
    "cax = ax.matshow(correlaciones, vmin=-1, vmax=1, cmap=plt.cm.rainbow)\n",
    "fig.colorbar(cax)\n",
    "ticks = np.arange(0,len(X_IQRwork.columns),1)\n",
    "ax.set_xticks(ticks)\n",
    "ax.set_yticks(ticks)\n",
    "# Añadimos los nombres de las variables en la figura\n",
    "names = X_IQRwork.columns\n",
    "ax.set_xticklabels(names)\n",
    "ax.set_yticklabels(names)\n",
    "plt.show()"
   ]
  },
  {
   "cell_type": "markdown",
   "id": "ba39d5d8-f4d8-49e4-88c0-3f404efa2d39",
   "metadata": {},
   "source": [
    "Probamos a eliminar variables muy correlacionadas"
   ]
  },
  {
   "cell_type": "code",
   "execution_count": 20,
   "id": "77f49dc4",
   "metadata": {},
   "outputs": [
    {
     "name": "stdout",
     "output_type": "stream",
     "text": [
      "(413, 11)\n"
     ]
    }
   ],
   "source": [
    "# Creamos la matriz de correlación en valor absoluto: función abs (da igual se se correlacionan positiva o negativamente)\n",
    "corr_matrix = abs(correlaciones)\n",
    "\n",
    "# Seleccionamos el triángulo superior de la matriz de correlación\n",
    "upper = corr_matrix.where(np.triu(np.ones(corr_matrix.shape), k=1).astype('bool'))\n",
    "# Umbral deseado para determinar variables correlacionadas\n",
    "umbral = 0.8\n",
    "# Obtenemos los índices de aquellas variables con correlación mayor al umbral deseado\n",
    "indices_variables_a_eliminar = [i for i,column in enumerate(upper.columns) if any(upper[column] > umbral)]\n",
    "\n",
    "# Creamos una copia de los datos de train para poder seguir trabajando con ellos posteriormente\n",
    "datos_train = X_IQRwork.copy()\n",
    "# Eliminamos las variables con alta correlación con algunda de las variables de entrada \n",
    "datos_train = datos_train.drop(datos_train.columns[indices_variables_a_eliminar], axis=1)\n",
    "# Mostramos las dimensiones del problema tras reducir las variables redundantes\n",
    "print(datos_train.shape)"
   ]
  },
  {
   "cell_type": "code",
   "execution_count": 21,
   "id": "ab217099",
   "metadata": {},
   "outputs": [
    {
     "data": {
      "text/html": [
       "<div>\n",
       "<style scoped>\n",
       "    .dataframe tbody tr th:only-of-type {\n",
       "        vertical-align: middle;\n",
       "    }\n",
       "\n",
       "    .dataframe tbody tr th {\n",
       "        vertical-align: top;\n",
       "    }\n",
       "\n",
       "    .dataframe thead th {\n",
       "        text-align: right;\n",
       "    }\n",
       "</style>\n",
       "<table border=\"1\" class=\"dataframe\">\n",
       "  <thead>\n",
       "    <tr style=\"text-align: right;\">\n",
       "      <th></th>\n",
       "      <th>X</th>\n",
       "      <th>Y</th>\n",
       "      <th>month</th>\n",
       "      <th>day</th>\n",
       "      <th>FFMC</th>\n",
       "      <th>DMC</th>\n",
       "      <th>ISI</th>\n",
       "      <th>temp</th>\n",
       "      <th>RH</th>\n",
       "      <th>wind</th>\n",
       "      <th>rain</th>\n",
       "    </tr>\n",
       "  </thead>\n",
       "  <tbody>\n",
       "    <tr>\n",
       "      <th>475</th>\n",
       "      <td>2</td>\n",
       "      <td>5</td>\n",
       "      <td>5</td>\n",
       "      <td>3</td>\n",
       "      <td>93.7</td>\n",
       "      <td>121.7</td>\n",
       "      <td>18.0</td>\n",
       "      <td>22.7</td>\n",
       "      <td>40</td>\n",
       "      <td>9.4</td>\n",
       "      <td>0.0</td>\n",
       "    </tr>\n",
       "    <tr>\n",
       "      <th>399</th>\n",
       "      <td>9</td>\n",
       "      <td>5</td>\n",
       "      <td>5</td>\n",
       "      <td>2</td>\n",
       "      <td>93.3</td>\n",
       "      <td>49.5</td>\n",
       "      <td>14.0</td>\n",
       "      <td>28.0</td>\n",
       "      <td>34</td>\n",
       "      <td>4.5</td>\n",
       "      <td>0.0</td>\n",
       "    </tr>\n",
       "    <tr>\n",
       "      <th>122</th>\n",
       "      <td>3</td>\n",
       "      <td>4</td>\n",
       "      <td>8</td>\n",
       "      <td>6</td>\n",
       "      <td>92.4</td>\n",
       "      <td>124.1</td>\n",
       "      <td>8.5</td>\n",
       "      <td>22.5</td>\n",
       "      <td>42</td>\n",
       "      <td>5.4</td>\n",
       "      <td>0.0</td>\n",
       "    </tr>\n",
       "    <tr>\n",
       "      <th>216</th>\n",
       "      <td>4</td>\n",
       "      <td>4</td>\n",
       "      <td>8</td>\n",
       "      <td>6</td>\n",
       "      <td>92.4</td>\n",
       "      <td>124.1</td>\n",
       "      <td>8.5</td>\n",
       "      <td>16.9</td>\n",
       "      <td>60</td>\n",
       "      <td>1.3</td>\n",
       "      <td>0.0</td>\n",
       "    </tr>\n",
       "    <tr>\n",
       "      <th>209</th>\n",
       "      <td>8</td>\n",
       "      <td>3</td>\n",
       "      <td>8</td>\n",
       "      <td>3</td>\n",
       "      <td>93.7</td>\n",
       "      <td>80.9</td>\n",
       "      <td>17.9</td>\n",
       "      <td>23.2</td>\n",
       "      <td>26</td>\n",
       "      <td>4.9</td>\n",
       "      <td>0.0</td>\n",
       "    </tr>\n",
       "    <tr>\n",
       "      <th>...</th>\n",
       "      <td>...</td>\n",
       "      <td>...</td>\n",
       "      <td>...</td>\n",
       "      <td>...</td>\n",
       "      <td>...</td>\n",
       "      <td>...</td>\n",
       "      <td>...</td>\n",
       "      <td>...</td>\n",
       "      <td>...</td>\n",
       "      <td>...</td>\n",
       "      <td>...</td>\n",
       "    </tr>\n",
       "    <tr>\n",
       "      <th>463</th>\n",
       "      <td>6</td>\n",
       "      <td>5</td>\n",
       "      <td>1</td>\n",
       "      <td>1</td>\n",
       "      <td>91.6</td>\n",
       "      <td>4.4</td>\n",
       "      <td>1.9</td>\n",
       "      <td>4.6</td>\n",
       "      <td>82</td>\n",
       "      <td>6.3</td>\n",
       "      <td>0.0</td>\n",
       "    </tr>\n",
       "    <tr>\n",
       "      <th>164</th>\n",
       "      <td>8</td>\n",
       "      <td>5</td>\n",
       "      <td>8</td>\n",
       "      <td>6</td>\n",
       "      <td>89.7</td>\n",
       "      <td>90.0</td>\n",
       "      <td>4.8</td>\n",
       "      <td>17.8</td>\n",
       "      <td>67</td>\n",
       "      <td>2.2</td>\n",
       "      <td>0.0</td>\n",
       "    </tr>\n",
       "    <tr>\n",
       "      <th>238</th>\n",
       "      <td>6</td>\n",
       "      <td>5</td>\n",
       "      <td>8</td>\n",
       "      <td>5</td>\n",
       "      <td>92.5</td>\n",
       "      <td>121.1</td>\n",
       "      <td>8.6</td>\n",
       "      <td>25.1</td>\n",
       "      <td>27</td>\n",
       "      <td>4.0</td>\n",
       "      <td>0.0</td>\n",
       "    </tr>\n",
       "    <tr>\n",
       "      <th>22</th>\n",
       "      <td>7</td>\n",
       "      <td>4</td>\n",
       "      <td>5</td>\n",
       "      <td>6</td>\n",
       "      <td>94.3</td>\n",
       "      <td>96.3</td>\n",
       "      <td>8.4</td>\n",
       "      <td>21.0</td>\n",
       "      <td>44</td>\n",
       "      <td>4.5</td>\n",
       "      <td>0.0</td>\n",
       "    </tr>\n",
       "    <tr>\n",
       "      <th>434</th>\n",
       "      <td>1</td>\n",
       "      <td>4</td>\n",
       "      <td>7</td>\n",
       "      <td>4</td>\n",
       "      <td>90.6</td>\n",
       "      <td>269.8</td>\n",
       "      <td>5.5</td>\n",
       "      <td>22.2</td>\n",
       "      <td>45</td>\n",
       "      <td>3.6</td>\n",
       "      <td>0.0</td>\n",
       "    </tr>\n",
       "  </tbody>\n",
       "</table>\n",
       "<p>413 rows × 11 columns</p>\n",
       "</div>"
      ],
      "text/plain": [
       "     X  Y  month  day  FFMC    DMC   ISI  temp  RH  wind  rain\n",
       "475  2  5      5    3  93.7  121.7  18.0  22.7  40   9.4   0.0\n",
       "399  9  5      5    2  93.3   49.5  14.0  28.0  34   4.5   0.0\n",
       "122  3  4      8    6  92.4  124.1   8.5  22.5  42   5.4   0.0\n",
       "216  4  4      8    6  92.4  124.1   8.5  16.9  60   1.3   0.0\n",
       "209  8  3      8    3  93.7   80.9  17.9  23.2  26   4.9   0.0\n",
       "..  .. ..    ...  ...   ...    ...   ...   ...  ..   ...   ...\n",
       "463  6  5      1    1  91.6    4.4   1.9   4.6  82   6.3   0.0\n",
       "164  8  5      8    6  89.7   90.0   4.8  17.8  67   2.2   0.0\n",
       "238  6  5      8    5  92.5  121.1   8.6  25.1  27   4.0   0.0\n",
       "22   7  4      5    6  94.3   96.3   8.4  21.0  44   4.5   0.0\n",
       "434  1  4      7    4  90.6  269.8   5.5  22.2  45   3.6   0.0\n",
       "\n",
       "[413 rows x 11 columns]"
      ]
     },
     "execution_count": 21,
     "metadata": {},
     "output_type": "execute_result"
    }
   ],
   "source": [
    "datos_train"
   ]
  },
  {
   "cell_type": "markdown",
   "id": "f64a5c18-f64a-4acb-b3db-d741eb6d86d6",
   "metadata": {},
   "source": [
    "Variable DC muy correlacionada con month. En meses de verano valores de DC más altos, más sequía. Más tarde comprobamos que no afecta a la predicción de test eliminar esta variable por lo que hemos decidido mantenerla. Además de que la consideramos que es una variable que aporta información importante DC ,Drought code.\n"
   ]
  },
  {
   "cell_type": "markdown",
   "id": "2624f4cb-f004-4037-9247-df915762425f",
   "metadata": {},
   "source": [
    "### Análisis del área quemada por meses"
   ]
  },
  {
   "cell_type": "code",
   "execution_count": 22,
   "id": "123c99ff-797a-4360-863c-c2e9e627a904",
   "metadata": {},
   "outputs": [
    {
     "data": {
      "image/png": "[encoded data removed]",
      "text/plain": [
       "<Figure size 648x648 with 1 Axes>"
      ]
     },
     "metadata": {},
     "output_type": "display_data"
    }
   ],
   "source": [
    "areaburnt=datos[datos['area']>0]\n",
    "areaburnt\n",
    "areaburnt.groupby('month')['area'].agg('count').plot(kind='pie',title='Análisis del área quemada por meses',figsize=(9,9),explode=[0,0.1,0,0,0,0,0,0,0,0.1],autopct='%0.1f%%')\n",
    "plt.show()"
   ]
  },
  {
   "cell_type": "markdown",
   "id": "289b055c",
   "metadata": {},
   "source": [
    "Vemos que en los meses de verano hay más posibilidad de incendio que en el resto de meses. Por eso decidimos crear una nueva variables que indique si un mes es de verano o no."
   ]
  },
  {
   "cell_type": "markdown",
   "id": "e93b7ba2",
   "metadata": {},
   "source": [
    "### Análisis del área quemada por días"
   ]
  },
  {
   "cell_type": "code",
   "execution_count": 23,
   "id": "d441e7a6",
   "metadata": {},
   "outputs": [
    {
     "data": {
      "image/png": "[encoded data removed]",
      "text/plain": [
       "<Figure size 648x648 with 1 Axes>"
      ]
     },
     "metadata": {},
     "output_type": "display_data"
    }
   ],
   "source": [
    "areaburnt=datos[datos['area']>0]\n",
    "areaburnt\n",
    "areaburnt.groupby('day')['area'].agg('count').plot(kind='pie',title='Análisis del área quemada por días',figsize=(9,9),autopct='%0.1f%%')\n",
    "plt.show()"
   ]
  },
  {
   "cell_type": "markdown",
   "id": "3b20ad71",
   "metadata": {},
   "source": [
    "Observamos que en la distribución entre los días es parecida. En un principio como en los días de finde semana (fri, sat, sun) vemos que hay mas % creamos una nueva variable de finde_semana , que finalmente en el filtro ANOVA nos lo descarta. Ya que al ser la distribución parecida no nos aporta información de más."
   ]
  },
  {
   "cell_type": "markdown",
   "id": "0917c0ce-1fe5-4a6c-8c5b-1377bc935b68",
   "metadata": {},
   "source": [
    "## Pipeline KNN: primeras pruebas para ver el funcionamiento del modelo"
   ]
  },
  {
   "cell_type": "code",
   "execution_count": 24,
   "id": "4c613fb8",
   "metadata": {},
   "outputs": [
    {
     "name": "stdout",
     "output_type": "stream",
     "text": [
      "Accuracy en train:  65.13317191283294\n",
      "Accuracy en test:  54.807692307692314\n"
     ]
    },
    {
     "name": "stderr",
     "output_type": "stream",
     "text": [
      "C:\\Users\\lukep\\anaconda3\\envs\\py38ml\\lib\\site-packages\\category_encoders\\utils.py:21: FutureWarning: is_categorical is deprecated and will be removed in a future version.  Use is_categorical_dtype instead\n",
      "  elif pd.api.types.is_categorical(cols):\n",
      "C:\\Users\\lukep\\AppData\\Roaming\\Python\\Python38\\site-packages\\sklearn\\neighbors\\_classification.py:198: DataConversionWarning: A column-vector y was passed when a 1d array was expected. Please change the shape of y to (n_samples,), for example using ravel().\n",
      "  return self._fit(X, y)\n"
     ]
    }
   ],
   "source": [
    "from sklearn.pipeline import Pipeline\n",
    "# errorPipeline = <RELLENAR>\n",
    "pipeline = Pipeline([('tipoDeteccionOutlier', OutlierDetecion_treatment_IQR(k = 3)),('codificacion',ordinal) ,('estandarizacion', preprocessing.StandardScaler()),  ('modelo',KNeighborsClassifier())])\n",
    "pipeline.fit(X_train,y_train)\n",
    "predicciones = pipeline.predict(X_train)\n",
    "accuracy_train = accuracy_score(predicciones, y_train)*100\n",
    "print('Accuracy en train: ',accuracy_train)\n",
    "\n",
    "prediccionesTest = pipeline.predict(X_test)\n",
    "accuracy_est = accuracy_score(prediccionesTest, y_test)*100\n",
    "print('Accuracy en test: ',accuracy_est)"
   ]
  },
  {
   "cell_type": "markdown",
   "id": "75cd7e91",
   "metadata": {},
   "source": [
    "Obtenemos una idea de los resultados iniciales."
   ]
  },
  {
   "cell_type": "markdown",
   "id": "e77d2442-89a4-484d-ad5d-9f6bea60c924",
   "metadata": {},
   "source": [
    "### Preparación de datos a entrenar, con los cambios descritos previamente."
   ]
  },
  {
   "cell_type": "code",
   "execution_count": 25,
   "id": "64b1868a-c8e8-458e-a699-f237edf52768",
   "metadata": {},
   "outputs": [
    {
     "name": "stderr",
     "output_type": "stream",
     "text": [
      "C:\\Users\\lukep\\anaconda3\\envs\\py38ml\\lib\\site-packages\\category_encoders\\utils.py:21: FutureWarning: is_categorical is deprecated and will be removed in a future version.  Use is_categorical_dtype instead\n",
      "  elif pd.api.types.is_categorical(cols):\n"
     ]
    }
   ],
   "source": [
    "X =ordinal.fit_transform(X)\n",
    "Xaux = X.copy()\n",
    "##añadimos atributos finde_semana, verano (explicado anteriormente)\n",
    "Xaux['finde_semana'] = np.zeros(len(Xaux))\n",
    "Xaux['verano'] = np.zeros(len(Xaux))\n",
    "Xaux.loc[Xaux.day>4,'finde_semana']=1\n",
    "Xaux.loc[(Xaux.month>5) & (Xaux.month< 9) ,'verano']=1\n",
    "X_train, X_test, y_train, y_test = model_selection.train_test_split(Xaux,y,train_size = 0.8,stratify=y,random_state=42)\n",
    "\n",
    "# Instanciamos la clase anterior, la entrenamos y transformamos del DataFrame\n",
    "out = OutlierDetecion_treatment_IQR(3)\n",
    "X_IQR = out.fit_transform(X_train)\n",
    "#modificamos columna de rain (explicado anteriormente)\n",
    "mask = X_train['rain']>0 \n",
    "X_IQR.loc[mask,'rain'] = 1\n",
    "#creo copia X_IQR con DC para despues hacer las pruebas\n",
    "X_IQR_DC = X_IQR.copy()\n",
    "X_IQR = X_IQR.drop(columns='DC')\n",
    "normalizarmedia = preprocessing.StandardScaler()\n",
    "X_train = normalizarmedia.fit_transform(X_IQR)\n",
    "\n",
    "X_test_IQR = out.transform(X_test)\n",
    "#modificamos columna de rain (explicado anteriormente)\n",
    "mask = X_test['rain']>0 \n",
    "X_test_IQR.loc[mask,'rain'] = 1\n",
    "X_test_DC = X_test_IQR.copy()\n",
    "X_test = X_test_IQR.drop(columns='DC')\n",
    "X_test = normalizarmedia.transform(X_test) \n",
    "columnas = list(Xaux.columns)\n",
    "columnas.remove('DC')\n",
    "columnas = np.array(columnas)"
   ]
  },
  {
   "cell_type": "code",
   "execution_count": 26,
   "id": "40316377",
   "metadata": {},
   "outputs": [],
   "source": [
    "X_train_DC = normalizarmedia.fit_transform(X_IQR_DC)\n",
    "X_test_DC = normalizarmedia.transform(X_test_DC) \n",
    "columnas_DC = Xaux.columns"
   ]
  },
  {
   "cell_type": "markdown",
   "id": "670b3c86",
   "metadata": {},
   "source": [
    "Probamos a quitar el atributo DC (que nos salía correlacionado con los meses), más tarde compararemos resultados sin él para ver como varían."
   ]
  },
  {
   "cell_type": "markdown",
   "id": "edd06052",
   "metadata": {},
   "source": [
    "## Selección de variables"
   ]
  },
  {
   "cell_type": "markdown",
   "id": "655ae0b4-6434-4d70-9cb6-ad44206f8d28",
   "metadata": {},
   "source": [
    "Hemos descartado usar chi2 porque no admitía valores negativos."
   ]
  },
  {
   "cell_type": "markdown",
   "id": "fd08f63a",
   "metadata": {},
   "source": [
    "### FILTRO ANOVA: Sin DC"
   ]
  },
  {
   "cell_type": "code",
   "execution_count": 27,
   "id": "efa77902",
   "metadata": {},
   "outputs": [
    {
     "name": "stdout",
     "output_type": "stream",
     "text": [
      "['Y' 'month' 'DMC' 'ISI' 'temp' 'verano']\n",
      "Seleccionando las 6 mejores variables se obtiene un accuracy del 71.67070217917676% en entrenamiento\n",
      "Seleccionando las 6 mejores variables se obtiene un accuracy del 60.57692307692307% en test\n",
      "['X' 'Y' 'month' 'DMC' 'ISI' 'temp' 'verano']\n",
      "Seleccionando las 7 mejores variables se obtiene un accuracy del 70.70217917675545% en entrenamiento\n",
      "Seleccionando las 7 mejores variables se obtiene un accuracy del 58.65384615384615% en test\n",
      "['X' 'Y' 'month' 'FFMC' 'DMC' 'ISI' 'temp' 'verano']\n",
      "Seleccionando las 8 mejores variables se obtiene un accuracy del 69.73365617433413% en entrenamiento\n",
      "Seleccionando las 8 mejores variables se obtiene un accuracy del 63.46153846153846% en test\n",
      "['X' 'Y' 'month' 'FFMC' 'DMC' 'ISI' 'temp' 'RH' 'verano']\n",
      "Seleccionando las 9 mejores variables se obtiene un accuracy del 70.46004842615012% en entrenamiento\n",
      "Seleccionando las 9 mejores variables se obtiene un accuracy del 57.692307692307686% en test\n",
      "['X' 'Y' 'month' 'FFMC' 'DMC' 'ISI' 'temp' 'RH' 'rain' 'verano']\n",
      "Seleccionando las 10 mejores variables se obtiene un accuracy del 70.94430992736078% en entrenamiento\n",
      "Seleccionando las 10 mejores variables se obtiene un accuracy del 56.730769230769226% en test\n",
      "['X' 'Y' 'month' 'FFMC' 'DMC' 'ISI' 'temp' 'RH' 'wind' 'rain' 'verano']\n",
      "Seleccionando las 11 mejores variables se obtiene un accuracy del 67.55447941888619% en entrenamiento\n",
      "Seleccionando las 11 mejores variables se obtiene un accuracy del 51.92307692307693% en test\n",
      "['X' 'Y' 'month' 'day' 'FFMC' 'DMC' 'ISI' 'temp' 'RH' 'wind' 'rain'\n",
      " 'verano']\n",
      "Seleccionando las 12 mejores variables se obtiene un accuracy del 70.2179176755448% en entrenamiento\n",
      "Seleccionando las 12 mejores variables se obtiene un accuracy del 58.65384615384615% en test\n"
     ]
    }
   ],
   "source": [
    "listaAccTrain = [] # lista para almancenar el rendimiento de las diferentes posibilidades en train\n",
    "listaAccTest = [] # lista para almancenar el rendimiento de las diferentes posibilidades en test\n",
    "# <RELLENAR>\n",
    "listaClf = []\n",
    "y_train = y_train.ravel()\n",
    "y_test = y_test.ravel()\n",
    "for numVar in [6,7,8,9,10,11,12]:\n",
    "    # Se llama al constructor que realiza la selección de las k mejores variables con los parámetros apropiados\n",
    "    tecnicaSeleccion = feature_selection.SelectKBest( score_func = feature_selection.f_classif,k = numVar)\n",
    "    # Llamada a la función que aprende los parámetros de la selección de variables a partir de los datos de entrenamiento\n",
    "    tecnicaSeleccion.fit(X_train,y_train)\n",
    "    # Llamada a la función que transforma los datos de entrenamiento: realiza la selección de variables\n",
    "    X_train_seleccion = tecnicaSeleccion.transform(X_train)\n",
    "    # Llamada a la función que transforma los datos de test: realiza la selección de variables\n",
    "    X_test_seleccion = tecnicaSeleccion.transform(X_test)\n",
    "    # Realizamos el proceso para KNN por lo que hay que llamar al constructor de dicho clasificador\n",
    "#     print(tecnicaSeleccion.get_support())\n",
    "#     print( Xaux.columns.values)\n",
    "    listaVariables = columnas[tecnicaSeleccion.get_support()]\n",
    "    print(listaVariables)\n",
    "    knn = KNeighborsClassifier()\n",
    "    # Llamada a la función que realiza el aprendizaje del clasificador\n",
    "    knn.fit(X_train_seleccion,y_train)\n",
    "    listaClf.append(knn)\n",
    "    # Llamada a la función que realiza la predicción de los datos de entrenamiento\n",
    "    prediccionTrain = knn.predict(X_train_seleccion)\n",
    "    # Llamada a la función que calcula el porcentaje de acierto para los datos de entrenamiento\n",
    "    accTrain = accuracy_score(y_train,prediccionTrain)*100\n",
    "    # Se añade el resultado a la lista de resultados de train\n",
    "    # <RELLENAR>\n",
    "    listaAccTrain.append(accTrain)\n",
    "    print('Seleccionando las {} mejores variables se obtiene un accuracy del {}% en entrenamiento'.format(numVar, accTrain))\n",
    "    # Llamada a la función que realiza la predicción de los datos de test\n",
    "    prediccionTest =  knn.predict(X_test_seleccion)\n",
    "    # Llamada a la función que calcula el porcentaje de acierto para los datos de test\n",
    "    accTest = accuracy_score(y_test,prediccionTest)*100\n",
    "    # Se añade el resultado a la lista de resultados de test\n",
    "    # <RELLENAR>\n",
    "    listaAccTest.append(accTest)\n",
    "    print('Seleccionando las {} mejores variables se obtiene un accuracy del {}% en test'.format(numVar, accTest))"
   ]
  },
  {
   "cell_type": "markdown",
   "id": "eef33111",
   "metadata": {},
   "source": [
    "Seleccionando las 8 mejores variables se obtiene un accuracy del 63.46% en test, el mejor resultado hasta ahora. \n",
    "Las variables seleccionadas son:\n",
    "- ['X' 'Y' 'month' 'FFMC' 'DMC' 'ISI' 'temp' 'verano']"
   ]
  },
  {
   "cell_type": "markdown",
   "id": "a6fa91cc",
   "metadata": {},
   "source": [
    "### FILTRO ANOVA: con DC "
   ]
  },
  {
   "cell_type": "code",
   "execution_count": 28,
   "id": "6f85f541",
   "metadata": {},
   "outputs": [
    {
     "name": "stdout",
     "output_type": "stream",
     "text": [
      "Index(['month', 'DMC', 'DC', 'ISI', 'temp', 'verano'], dtype='object')\n",
      "Seleccionando las 6 mejores variables se obtiene un accuracy del 69.73365617433413% en entrenamiento\n",
      "Seleccionando las 6 mejores variables se obtiene un accuracy del 59.61538461538461% en test\n",
      "Index(['Y', 'month', 'DMC', 'DC', 'ISI', 'temp', 'verano'], dtype='object')\n",
      "Seleccionando las 7 mejores variables se obtiene un accuracy del 70.70217917675545% en entrenamiento\n",
      "Seleccionando las 7 mejores variables se obtiene un accuracy del 58.65384615384615% en test\n",
      "Index(['X', 'Y', 'month', 'DMC', 'DC', 'ISI', 'temp', 'verano'], dtype='object')\n",
      "Seleccionando las 8 mejores variables se obtiene un accuracy del 69.97578692493947% en entrenamiento\n",
      "Seleccionando las 8 mejores variables se obtiene un accuracy del 57.692307692307686% en test\n",
      "Index(['X', 'Y', 'month', 'FFMC', 'DMC', 'DC', 'ISI', 'temp', 'verano'], dtype='object')\n",
      "Seleccionando las 9 mejores variables se obtiene un accuracy del 69.24939467312349% en entrenamiento\n",
      "Seleccionando las 9 mejores variables se obtiene un accuracy del 60.57692307692307% en test\n",
      "Index(['X', 'Y', 'month', 'FFMC', 'DMC', 'DC', 'ISI', 'temp', 'RH', 'verano'], dtype='object')\n",
      "Seleccionando las 10 mejores variables se obtiene un accuracy del 71.1864406779661% en entrenamiento\n",
      "Seleccionando las 10 mejores variables se obtiene un accuracy del 63.46153846153846% en test\n",
      "Index(['X', 'Y', 'month', 'FFMC', 'DMC', 'DC', 'ISI', 'temp', 'RH', 'rain',\n",
      "       'verano'],\n",
      "      dtype='object')\n",
      "Seleccionando las 11 mejores variables se obtiene un accuracy del 71.67070217917676% en entrenamiento\n",
      "Seleccionando las 11 mejores variables se obtiene un accuracy del 61.53846153846154% en test\n",
      "Index(['X', 'Y', 'month', 'FFMC', 'DMC', 'DC', 'ISI', 'temp', 'RH', 'wind',\n",
      "       'rain', 'verano'],\n",
      "      dtype='object')\n",
      "Seleccionando las 12 mejores variables se obtiene un accuracy del 67.55447941888619% en entrenamiento\n",
      "Seleccionando las 12 mejores variables se obtiene un accuracy del 55.769230769230774% en test\n",
      "Index(['X', 'Y', 'month', 'day', 'FFMC', 'DMC', 'DC', 'ISI', 'temp', 'RH',\n",
      "       'wind', 'rain', 'verano'],\n",
      "      dtype='object')\n",
      "Seleccionando las 13 mejores variables se obtiene un accuracy del 69.73365617433413% en entrenamiento\n",
      "Seleccionando las 13 mejores variables se obtiene un accuracy del 55.769230769230774% en test\n"
     ]
    }
   ],
   "source": [
    "listaAccTrain = [] # lista para almancenar el rendimiento de las diferentes posibilidades en train\n",
    "listaAccTest = [] # lista para almancenar el rendimiento de las diferentes posibilidades en test\n",
    "# <RELLENAR>\n",
    "y_train = y_train.ravel()\n",
    "y_test = y_test.ravel()\n",
    "for numVar in [6,7,8,9,10,11,12,13]:\n",
    "# <RELLENAR>\n",
    "    # Se llama al constructor que realiza la selección de las k mejores variables con los parámetros apropiados\n",
    "    tecnicaSeleccion = feature_selection.SelectKBest( score_func = feature_selection.f_classif,k = numVar)\n",
    "    # Llamada a la función que aprende los parámetros de la selección de variables a partir de los datos de entrenamiento\n",
    "    tecnicaSeleccion.fit(X_train_DC,y_train)\n",
    "    # Llamada a la función que transforma los datos de entrenamiento: realiza la selección de variables\n",
    "    X_train_seleccion = tecnicaSeleccion.transform(X_train_DC)\n",
    "    # Llamada a la función que transforma los datos de test: realiza la selección de variables\n",
    "    X_test_seleccion = tecnicaSeleccion.transform(X_test_DC)\n",
    "    # Realizamos el proceso para KNN por lo que hay que llamar al constructor de dicho clasificador\n",
    "#     print(tecnicaSeleccion.get_support())\n",
    "#     print( Xaux.columns.values)\n",
    "    listaVariables = columnas_DC[tecnicaSeleccion.get_support()]\n",
    "    print(listaVariables)\n",
    "    knn = KNeighborsClassifier()\n",
    "    # Llamada a la función que realiza el aprendizaje del clasificador\n",
    "    knn.fit(X_train_seleccion,y_train)\n",
    "    # Llamada a la función que realiza la predicción de los datos de entrenamiento\n",
    "    prediccionTrain = knn.predict(X_train_seleccion)\n",
    "    # Llamada a la función que calcula el porcentaje de acierto para los datos de entrenamiento\n",
    "    accTrain = accuracy_score(y_train,prediccionTrain)*100\n",
    "    # Se añade el resultado a la lista de resultados de train\n",
    "    # <RELLENAR>\n",
    "    listaAccTrain.append(accTrain)\n",
    "    print('Seleccionando las {} mejores variables se obtiene un accuracy del {}% en entrenamiento'.format(numVar, accTrain))\n",
    "    # Llamada a la función que realiza la predicción de los datos de test\n",
    "    prediccionTest =  knn.predict(X_test_seleccion)\n",
    "    # Llamada a la función que calcula el porcentaje de acierto para los datos de test\n",
    "    accTest = accuracy_score(y_test,prediccionTest)*100\n",
    "    # Se añade el resultado a la lista de resultados de test\n",
    "    # <RELLENAR>\n",
    "    listaAccTest.append(accTest)\n",
    "    print('Seleccionando las {} mejores variables se obtiene un accuracy del {}% en test'.format(numVar, accTest))"
   ]
  },
  {
   "cell_type": "markdown",
   "id": "240211af",
   "metadata": {},
   "source": [
    "Seleccionando las 10 mejores variables con ANOVA usando DC se obtiene un accuracy del 63.46% en test, el mejor resultado en este caso. Las variables seleccionadas son:\n",
    "- ['X', 'Y', 'month', 'FFMC', 'DMC', 'DC', 'ISI', 'temp', 'RH', 'verano']"
   ]
  },
  {
   "cell_type": "markdown",
   "id": "34607d0b-f398-4a20-ac2c-9fea3b444e4c",
   "metadata": {},
   "source": [
    "Implementamos distintos métodos basados en wrappers para ver si mejoraba el rendimiento."
   ]
  },
  {
   "cell_type": "markdown",
   "id": "5eb001ef",
   "metadata": {},
   "source": [
    "## MÉTODOS BASADOS EN WRAPPERS"
   ]
  },
  {
   "cell_type": "markdown",
   "id": "25f2ec23",
   "metadata": {},
   "source": [
    "### RFE: sin DC"
   ]
  },
  {
   "cell_type": "code",
   "execution_count": 29,
   "id": "87d1789d",
   "metadata": {},
   "outputs": [
    {
     "name": "stdout",
     "output_type": "stream",
     "text": [
      "['X' 'Y' 'month' 'temp' 'wind' 'rain']\n",
      "Manteniendo 6 variables se obtiene un accuracy del 57.869249394673126% en entrenamiento\n",
      "Manteniendo 6 variables se obtiene un accuracy del 55.769230769230774% en test\n",
      "['X' 'Y' 'month' 'ISI' 'temp' 'wind' 'rain']\n",
      "Manteniendo 7 variables se obtiene un accuracy del 58.595641646489106% en entrenamiento\n",
      "Manteniendo 7 variables se obtiene un accuracy del 54.807692307692314% en test\n",
      "['X' 'Y' 'month' 'FFMC' 'ISI' 'temp' 'wind' 'rain']\n",
      "Manteniendo 8 variables se obtiene un accuracy del 58.83777239709443% en entrenamiento\n",
      "Manteniendo 8 variables se obtiene un accuracy del 53.84615384615385% en test\n",
      "['X' 'Y' 'month' 'FFMC' 'ISI' 'temp' 'wind' 'rain' 'verano']\n",
      "Manteniendo 9 variables se obtiene un accuracy del 60.048426150121074% en entrenamiento\n",
      "Manteniendo 9 variables se obtiene un accuracy del 55.769230769230774% en test\n",
      "['X' 'Y' 'month' 'FFMC' 'DMC' 'ISI' 'temp' 'wind' 'rain' 'verano']\n",
      "Manteniendo 10 variables se obtiene un accuracy del 59.80629539951574% en entrenamiento\n",
      "Manteniendo 10 variables se obtiene un accuracy del 56.730769230769226% en test\n",
      "['X' 'Y' 'month' 'day' 'FFMC' 'DMC' 'ISI' 'temp' 'wind' 'rain' 'verano']\n",
      "Manteniendo 11 variables se obtiene un accuracy del 59.56416464891041% en entrenamiento\n",
      "Manteniendo 11 variables se obtiene un accuracy del 58.65384615384615% en test\n",
      "['X' 'Y' 'month' 'day' 'FFMC' 'DMC' 'ISI' 'temp' 'RH' 'wind' 'rain'\n",
      " 'verano']\n",
      "Manteniendo 12 variables se obtiene un accuracy del 59.32203389830508% en entrenamiento\n",
      "Manteniendo 12 variables se obtiene un accuracy del 58.65384615384615% en test\n"
     ]
    }
   ],
   "source": [
    "from sklearn import linear_model\n",
    "\n",
    "# Listas para almacenar los resultados de accuracy en train y test\n",
    "listaAccTrain = []\n",
    "listaAccTest = []\n",
    "for variablesMantener in [6,7,8,9,10,11,12]:\n",
    "# <RELLENAR>\n",
    "    # Se llama al constructor que realiza la selección de variables en base a la eliminación secuencial de variables\n",
    "        # Utiliza los parámetros adecuados\n",
    "    tecnicaSeleccion =  feature_selection.RFE(linear_model.LogisticRegression(solver = 'liblinear'),n_features_to_select=variablesMantener, step =1)\n",
    "    # Llamada a la función que aprende los parámetros de la selección de variables a partir de los datos de entrenamiento\n",
    "    tecnicaSeleccion.fit(X_train, y_train)\n",
    "    # variables seleccionadas.\n",
    "    listaVariables = columnas[tecnicaSeleccion.get_support()]\n",
    "    print(listaVariables)\n",
    "    # Llamada a la función que transforma los datos de entrenamiento: realiza la selección de variables\n",
    "    X_train_seleccion = tecnicaSeleccion.transform(X_train)\n",
    "    # Llamada a la función que transforma los datos de test: realiza la selección de variables\n",
    "    X_test_seleccion =  tecnicaSeleccion.transform(X_test)\n",
    "    # Realizamos el proceso para la regresión logística por lo que hay que llamar al constructor de dicho clasificador con la configuración apropiada\n",
    "    RL =  linear_model.LogisticRegression(solver = 'liblinear')\n",
    "    # Llamada a la función que realiza el aprendizaje del clasificador\n",
    "    RL.fit(X_train_seleccion,y_train)\n",
    "    # Llamada a la función que realiza la predicción de los datos de entrenamiento\n",
    "    prediccionTrain = RL.predict(X_train_seleccion)\n",
    "    # Llamada a la función que calcula el porcentaje de acierto para los datos de entrenamiento\n",
    "    accTrain =accuracy_score(y_train,prediccionTrain)*100\n",
    "    # Se añade el resultado a la lista de resultados de train\n",
    "    # <RELLENAR>\n",
    "    listaAccTrain.append(accTrain)\n",
    "    print('Manteniendo {} variables se obtiene un accuracy del {}% en entrenamiento'.format(variablesMantener, accTrain))\n",
    "    # Llamada a la función que realiza la predicción de los datos de test\n",
    "    prediccionTest = RL.predict(X_test_seleccion)\n",
    "    # Llamada a la función que calcula el porcentaje de acierto para los datos de test\n",
    "    accTest =  accuracy_score(y_test,prediccionTest)*100\n",
    "    # Se añade el resultado a la lista de resultados de test\n",
    "    # <RELLENAR>\n",
    "    listaAccTest.append(accTest)\n",
    "    print('Manteniendo {} variables se obtiene un accuracy del {}% en test'.format(variablesMantener, accTest))"
   ]
  },
  {
   "cell_type": "markdown",
   "id": "4f69d622",
   "metadata": {},
   "source": [
    "Seleccionando las 12 mejores variables con RFE sin coger DC se obtiene un accuracy del 58.65% en test, el mejor resultado en este caso. Las variables seleccionadas son:\n",
    "- ['X' 'Y' 'month' 'day' 'FFMC' 'DMC' 'ISI' 'temp' 'RH' 'wind' 'rain'\n",
    " 'verano']"
   ]
  },
  {
   "cell_type": "markdown",
   "id": "edec860e",
   "metadata": {},
   "source": [
    "### RFE: con DC"
   ]
  },
  {
   "cell_type": "code",
   "execution_count": 30,
   "id": "5b8fbea4",
   "metadata": {},
   "outputs": [
    {
     "name": "stdout",
     "output_type": "stream",
     "text": [
      "Index(['X', 'month', 'DC', 'temp', 'wind', 'verano'], dtype='object')\n",
      "Manteniendo 6 variables se obtiene un accuracy del 58.111380145278446% en entrenamiento\n",
      "Manteniendo 6 variables se obtiene un accuracy del 52.88461538461539% en test\n",
      "Index(['X', 'month', 'DC', 'temp', 'wind', 'rain', 'verano'], dtype='object')\n",
      "Manteniendo 7 variables se obtiene un accuracy del 57.869249394673126% en entrenamiento\n",
      "Manteniendo 7 variables se obtiene un accuracy del 52.88461538461539% en test\n",
      "Index(['X', 'Y', 'month', 'DC', 'temp', 'wind', 'rain', 'verano'], dtype='object')\n",
      "Manteniendo 8 variables se obtiene un accuracy del 58.83777239709443% en entrenamiento\n",
      "Manteniendo 8 variables se obtiene un accuracy del 55.769230769230774% en test\n",
      "Index(['X', 'Y', 'month', 'DMC', 'DC', 'temp', 'wind', 'rain', 'verano'], dtype='object')\n",
      "Manteniendo 9 variables se obtiene un accuracy del 57.6271186440678% en entrenamiento\n",
      "Manteniendo 9 variables se obtiene un accuracy del 56.730769230769226% en test\n",
      "Index(['X', 'Y', 'month', 'DMC', 'DC', 'ISI', 'temp', 'wind', 'rain',\n",
      "       'verano'],\n",
      "      dtype='object')\n",
      "Manteniendo 10 variables se obtiene un accuracy del 59.07990314769975% en entrenamiento\n",
      "Manteniendo 10 variables se obtiene un accuracy del 56.730769230769226% en test\n",
      "Index(['X', 'Y', 'month', 'FFMC', 'DMC', 'DC', 'ISI', 'temp', 'wind', 'rain',\n",
      "       'verano'],\n",
      "      dtype='object')\n",
      "Manteniendo 11 variables se obtiene un accuracy del 58.595641646489106% en entrenamiento\n",
      "Manteniendo 11 variables se obtiene un accuracy del 57.692307692307686% en test\n",
      "Index(['X', 'Y', 'month', 'day', 'FFMC', 'DMC', 'DC', 'ISI', 'temp', 'wind',\n",
      "       'rain', 'verano'],\n",
      "      dtype='object')\n",
      "Manteniendo 12 variables se obtiene un accuracy del 58.83777239709443% en entrenamiento\n",
      "Manteniendo 12 variables se obtiene un accuracy del 56.730769230769226% en test\n",
      "Index(['X', 'Y', 'month', 'day', 'FFMC', 'DMC', 'DC', 'ISI', 'temp', 'wind',\n",
      "       'rain', 'finde_semana', 'verano'],\n",
      "      dtype='object')\n",
      "Manteniendo 13 variables se obtiene un accuracy del 59.07990314769975% en entrenamiento\n",
      "Manteniendo 13 variables se obtiene un accuracy del 56.730769230769226% en test\n"
     ]
    }
   ],
   "source": [
    "from sklearn import linear_model\n",
    "\n",
    "# Listas para almacenar los resultados de accuracy en train y test\n",
    "listaAccTrain = []\n",
    "listaAccTest = []\n",
    "for variablesMantener in [6,7,8,9,10,11,12,13]:\n",
    "# <RELLENAR>\n",
    "    # Se llama al constructor que realiza la selección de variables en base a la eliminación secuencial de variables\n",
    "        # Utiliza los parámetros adecuados\n",
    "    tecnicaSeleccion =  feature_selection.RFE(linear_model.LogisticRegression(solver = 'liblinear'),n_features_to_select=variablesMantener, step =1)\n",
    "    # Llamada a la función que aprende los parámetros de la selección de variables a partir de los datos de entrenamiento\n",
    "    tecnicaSeleccion.fit(X_train_DC, y_train)\n",
    "    # variables seleccionadas.\n",
    "    listaVariables = columnas_DC[tecnicaSeleccion.get_support()]\n",
    "    print(listaVariables)\n",
    "    # Llamada a la función que transforma los datos de entrenamiento: realiza la selección de variables\n",
    "    X_train_seleccion = tecnicaSeleccion.transform(X_train_DC)\n",
    "    # Llamada a la función que transforma los datos de test: realiza la selección de variables\n",
    "    X_test_seleccion =  tecnicaSeleccion.transform(X_test_DC)\n",
    "    # Realizamos el proceso para la regresión logística por lo que hay que llamar al constructor de dicho clasificador con la configuración apropiada\n",
    "    RL =  linear_model.LogisticRegression(solver = 'liblinear')\n",
    "    # Llamada a la función que realiza el aprendizaje del clasificador\n",
    "    RL.fit(X_train_seleccion,y_train)\n",
    "    # Llamada a la función que realiza la predicción de los datos de entrenamiento\n",
    "    prediccionTrain = RL.predict(X_train_seleccion)\n",
    "    # Llamada a la función que calcula el porcentaje de acierto para los datos de entrenamiento\n",
    "    accTrain =accuracy_score(y_train,prediccionTrain)*100\n",
    "    # Se añade el resultado a la lista de resultados de train\n",
    "    # <RELLENAR>\n",
    "    listaAccTrain.append(accTrain)\n",
    "    print('Manteniendo {} variables se obtiene un accuracy del {}% en entrenamiento'.format(variablesMantener, accTrain))\n",
    "    # Llamada a la función que realiza la predicción de los datos de test\n",
    "    prediccionTest = RL.predict(X_test_seleccion)\n",
    "    # Llamada a la función que calcula el porcentaje de acierto para los datos de test\n",
    "    accTest =  accuracy_score(y_test,prediccionTest)*100\n",
    "    # Se añade el resultado a la lista de resultados de test\n",
    "    # <RELLENAR>\n",
    "    listaAccTest.append(accTest)\n",
    "    print('Manteniendo {} variables se obtiene un accuracy del {}% en test'.format(variablesMantener, accTest))"
   ]
  },
  {
   "cell_type": "markdown",
   "id": "1a5994e3",
   "metadata": {},
   "source": [
    "Seleccionando las 11 mejores variables con RFE cogiendo DC se obtiene un accuracy del 57.69% en test, el mejor resultado en este caso. Las variables seleccionadas son:\n",
    "- ['X', 'Y', 'month', 'day', 'FFMC', 'DMC', 'DC', 'ISI', 'temp', 'wind','rain', 'verano']"
   ]
  },
  {
   "cell_type": "markdown",
   "id": "3b3b5533",
   "metadata": {},
   "source": [
    "RFE EMPEORA RESULTADOS"
   ]
  },
  {
   "cell_type": "markdown",
   "id": "6b327d84",
   "metadata": {},
   "source": [
    "Realizadas diferentes pruebas podemos observar que no hay grandes cambios al usar o no el atributo DC, por lo que hemos decicidido a partir de ahora trabajar con el puesto que consideramos que es un atributo relevante en el problema, ya que mide el nivel humedad que tiene el suelo."
   ]
  },
  {
   "cell_type": "code",
   "execution_count": 31,
   "id": "eaa8cc93",
   "metadata": {},
   "outputs": [],
   "source": [
    "X_train = X_train_DC.copy()\n",
    "X_test = X_test_DC.copy()\n",
    "columnas = columnas_DC"
   ]
  },
  {
   "cell_type": "markdown",
   "id": "b703043c-4c4f-4c40-811d-71782e7141a7",
   "metadata": {},
   "source": [
    "Continuamos probando diversos métodos. En este caso basados en la dirección de la búsqueda."
   ]
  },
  {
   "cell_type": "markdown",
   "id": "860fb00e",
   "metadata": {},
   "source": [
    "### SEQUENTIAL FORWARD SELECTION"
   ]
  },
  {
   "cell_type": "code",
   "execution_count": 32,
   "id": "834da867",
   "metadata": {},
   "outputs": [
    {
     "name": "stdout",
     "output_type": "stream",
     "text": [
      "Index(['Y', 'month', 'FFMC', 'DC', 'temp', 'rain'], dtype='object')\n",
      "Manteniendo 6 variables se obtiene un accuracy del 58.35351089588377% en entrenamiento\n",
      "Manteniendo 6 variables se obtiene un accuracy del 53.84615384615385% en test\n",
      "Index(['Y', 'month', 'FFMC', 'DC', 'temp', 'rain', 'verano'], dtype='object')\n",
      "Manteniendo 7 variables se obtiene un accuracy del 57.6271186440678% en entrenamiento\n",
      "Manteniendo 7 variables se obtiene un accuracy del 57.692307692307686% en test\n",
      "Index(['Y', 'month', 'FFMC', 'DC', 'temp', 'rain', 'finde_semana', 'verano'], dtype='object')\n",
      "Manteniendo 8 variables se obtiene un accuracy del 57.6271186440678% en entrenamiento\n",
      "Manteniendo 8 variables se obtiene un accuracy del 57.692307692307686% en test\n",
      "Index(['Y', 'month', 'FFMC', 'DC', 'ISI', 'temp', 'rain', 'finde_semana',\n",
      "       'verano'],\n",
      "      dtype='object')\n",
      "Manteniendo 9 variables se obtiene un accuracy del 58.595641646489106% en entrenamiento\n",
      "Manteniendo 9 variables se obtiene un accuracy del 55.769230769230774% en test\n",
      "Index(['Y', 'month', 'FFMC', 'DC', 'ISI', 'temp', 'wind', 'rain',\n",
      "       'finde_semana', 'verano'],\n",
      "      dtype='object')\n",
      "Manteniendo 10 variables se obtiene un accuracy del 60.53268765133172% en entrenamiento\n",
      "Manteniendo 10 variables se obtiene un accuracy del 56.730769230769226% en test\n",
      "Index(['Y', 'month', 'FFMC', 'DC', 'ISI', 'temp', 'RH', 'wind', 'rain',\n",
      "       'finde_semana', 'verano'],\n",
      "      dtype='object')\n",
      "Manteniendo 11 variables se obtiene un accuracy del 60.290556900726386% en entrenamiento\n",
      "Manteniendo 11 variables se obtiene un accuracy del 56.730769230769226% en test\n",
      "Index(['Y', 'month', 'day', 'FFMC', 'DC', 'ISI', 'temp', 'RH', 'wind', 'rain',\n",
      "       'finde_semana', 'verano'],\n",
      "      dtype='object')\n",
      "Manteniendo 12 variables se obtiene un accuracy del 60.048426150121074% en entrenamiento\n",
      "Manteniendo 12 variables se obtiene un accuracy del 55.769230769230774% en test\n",
      "Index(['Y', 'month', 'day', 'FFMC', 'DMC', 'DC', 'ISI', 'temp', 'RH', 'wind',\n",
      "       'rain', 'finde_semana', 'verano'],\n",
      "      dtype='object')\n",
      "Manteniendo 13 variables se obtiene un accuracy del 59.80629539951574% en entrenamiento\n",
      "Manteniendo 13 variables se obtiene un accuracy del 55.769230769230774% en test\n"
     ]
    }
   ],
   "source": [
    "# Listas para almacenar los resultados de accuracy en train y test\n",
    "listaAccTrain = []\n",
    "listaAccTest = []\n",
    "for variablesMantener in [6,7,8,9,10,11,12,13]:\n",
    "# <RELLENAR>\n",
    "    # Se llama al constructor que realiza la selección de variables en base a la introducción secuencial de variables\n",
    "        # Utiliza los parámetros adecuados\n",
    "    tecnicaSeleccion =  feature_selection.SequentialFeatureSelector(linear_model.LogisticRegression(solver = 'liblinear'),n_features_to_select=variablesMantener,direction='forward',n_jobs=-1)\n",
    "    # Llamada a la función que aprende los parámetros de la selección de variables a partir de los datos de entrenamiento\n",
    "    tecnicaSeleccion.fit(X_train,y_train)\n",
    "    # Llamada a la función que transforma los datos de entrenamiento: realiza la selección de variables\n",
    "    X_train_seleccion = tecnicaSeleccion.transform(X_train)\n",
    "    # Llamada a la función que transforma los datos de test: realiza la selección de variables\n",
    "    X_test_seleccion =  tecnicaSeleccion.transform(X_test)\n",
    "    # variables seleccionadas\n",
    "    listaVariables = columnas[tecnicaSeleccion.get_support()]\n",
    "    print(listaVariables)\n",
    "    # Realizamos el proceso para la regresión logística por lo que hay que llamar al constructor de dicho clasificador con la configuración apropiada\n",
    "    RL = linear_model.LogisticRegression(solver = 'liblinear')\n",
    "    # Llamada a la función que realiza el aprendizaje del clasificador\n",
    "    RL.fit(X_train_seleccion,y_train)\n",
    "    # Llamada a la función que realiza la predicción de los datos de entrenamiento\n",
    "    prediccionTrain =  RL.predict(X_train_seleccion)\n",
    "    # Llamada a la función que calcula el porcentaje de acierto para los datos de entrenamiento\n",
    "    accTrain = accuracy_score(y_train,prediccionTrain)*100\n",
    "    # Se añade el resultado a la lista de resultados de train\n",
    "    # <RELLENAR>\n",
    "    listaAccTrain.append(accTrain)\n",
    "    print('Manteniendo {} variables se obtiene un accuracy del {}% en entrenamiento'.format(variablesMantener, accTrain))\n",
    "    # Llamada a la función que realiza la predicción de los datos de test\n",
    "    prediccionTest =  RL.predict(X_test_seleccion)\n",
    "    # Llamada a la función que calcula el porcentaje de acierto para los datos de test\n",
    "    accTest = accuracy_score(y_test,prediccionTest)*100\n",
    "    # Se añade el resultado a la lista de resultados de test\n",
    "    # <RELLENAR>\n",
    "    listaAccTest.append(accTest)\n",
    "    print('Manteniendo {} variables se obtiene un accuracy del {}% en test'.format(variablesMantener, accTest))"
   ]
  },
  {
   "cell_type": "markdown",
   "id": "d28f8c33",
   "metadata": {},
   "source": [
    "Seleccionando las 7 mejores variables con SFS se obtiene un accuracy del 57.69% en test, el mejor resultado en este caso. Las variables seleccionadas son:\n",
    "-['Y', 'month', 'FFMC', 'DC', 'temp', 'rain', 'verano']"
   ]
  },
  {
   "cell_type": "markdown",
   "id": "6219f65f",
   "metadata": {},
   "source": [
    "### SEQUENTIAL BACKWARD SELECTION"
   ]
  },
  {
   "cell_type": "code",
   "execution_count": 33,
   "id": "a353d242",
   "metadata": {},
   "outputs": [
    {
     "name": "stdout",
     "output_type": "stream",
     "text": [
      "Index(['month', 'DC', 'ISI', 'temp', 'rain', 'verano'], dtype='object')\n",
      "Manteniendo 6 variables se obtiene un accuracy del 58.595641646489106% en entrenamiento\n",
      "Manteniendo 6 variables se obtiene un accuracy del 50.96153846153846% en test\n",
      "Index(['month', 'DMC', 'DC', 'ISI', 'temp', 'rain', 'verano'], dtype='object')\n",
      "Manteniendo 7 variables se obtiene un accuracy del 58.111380145278446% en entrenamiento\n",
      "Manteniendo 7 variables se obtiene un accuracy del 52.88461538461539% en test\n",
      "Index(['Y', 'month', 'DMC', 'DC', 'ISI', 'temp', 'rain', 'verano'], dtype='object')\n",
      "Manteniendo 8 variables se obtiene un accuracy del 59.07990314769975% en entrenamiento\n",
      "Manteniendo 8 variables se obtiene un accuracy del 54.807692307692314% en test\n",
      "Index(['Y', 'month', 'DMC', 'DC', 'ISI', 'temp', 'RH', 'rain', 'verano'], dtype='object')\n",
      "Manteniendo 9 variables se obtiene un accuracy del 59.07990314769975% en entrenamiento\n",
      "Manteniendo 9 variables se obtiene un accuracy del 55.769230769230774% en test\n",
      "Index(['Y', 'month', 'day', 'DMC', 'DC', 'ISI', 'temp', 'RH', 'rain',\n",
      "       'verano'],\n",
      "      dtype='object')\n",
      "Manteniendo 10 variables se obtiene un accuracy del 59.32203389830508% en entrenamiento\n",
      "Manteniendo 10 variables se obtiene un accuracy del 57.692307692307686% en test\n",
      "Index(['Y', 'month', 'day', 'FFMC', 'DMC', 'DC', 'ISI', 'temp', 'RH', 'rain',\n",
      "       'verano'],\n",
      "      dtype='object')\n",
      "Manteniendo 11 variables se obtiene un accuracy del 58.595641646489106% en entrenamiento\n",
      "Manteniendo 11 variables se obtiene un accuracy del 54.807692307692314% en test\n",
      "Index(['Y', 'month', 'day', 'FFMC', 'DMC', 'DC', 'ISI', 'temp', 'RH', 'wind',\n",
      "       'rain', 'verano'],\n",
      "      dtype='object')\n",
      "Manteniendo 12 variables se obtiene un accuracy del 59.56416464891041% en entrenamiento\n",
      "Manteniendo 12 variables se obtiene un accuracy del 55.769230769230774% en test\n",
      "Index(['X', 'Y', 'month', 'day', 'FFMC', 'DMC', 'DC', 'ISI', 'temp', 'RH',\n",
      "       'wind', 'rain', 'verano'],\n",
      "      dtype='object')\n",
      "Manteniendo 13 variables se obtiene un accuracy del 59.32203389830508% en entrenamiento\n",
      "Manteniendo 13 variables se obtiene un accuracy del 56.730769230769226% en test\n"
     ]
    }
   ],
   "source": [
    "# Listas para almacenar los resultados de accuracy en train y test\n",
    "listaAccTrain = []\n",
    "listaAccTest = []\n",
    "for variablesMantener in [6,7,8,9,10,11,12,13]:\n",
    "# <RELLENAR>\n",
    "    # Se llama al constructor que realiza la selección de variables en base a la introducción secuencial de variables\n",
    "        # Utiliza los parámetros adecuados\n",
    "    tecnicaSeleccion =  feature_selection.SequentialFeatureSelector(linear_model.LogisticRegression(solver = 'liblinear'),n_features_to_select=variablesMantener,direction='backward',n_jobs=-1)\n",
    "    # Llamada a la función que aprende los parámetros de la selección de variables a partir de los datos de entrenamiento\n",
    "    tecnicaSeleccion.fit(X_train,y_train)\n",
    "    # Llamada a la función que transforma los datos de entrenamiento: realiza la selección de variables\n",
    "    X_train_seleccion = tecnicaSeleccion.transform(X_train)\n",
    "    # Llamada a la función que transforma los datos de test: realiza la selección de variables\n",
    "    X_test_seleccion =  tecnicaSeleccion.transform(X_test)\n",
    "        # variables seleccionadas\n",
    "    listaVariables = columnas[tecnicaSeleccion.get_support()]\n",
    "    print(listaVariables)\n",
    "    # Realizamos el proceso para la regresión logística por lo que hay que llamar al constructor de dicho clasificador con la configuración apropiada\n",
    "    RL = linear_model.LogisticRegression(solver = 'liblinear')\n",
    "    # Llamada a la función que realiza el aprendizaje del clasificador\n",
    "    RL.fit(X_train_seleccion,y_train)\n",
    "    # Llamada a la función que realiza la predicción de los datos de entrenamiento\n",
    "    prediccionTrain =  RL.predict(X_train_seleccion)\n",
    "    # Llamada a la función que calcula el porcentaje de acierto para los datos de entrenamiento\n",
    "    accTrain = accuracy_score(y_train,prediccionTrain)*100\n",
    "    # Se añade el resultado a la lista de resultados de train\n",
    "    # <RELLENAR>\n",
    "    listaAccTrain.append(accTrain)\n",
    "    print('Manteniendo {} variables se obtiene un accuracy del {}% en entrenamiento'.format(variablesMantener, accTrain))\n",
    "    # Llamada a la función que realiza la predicción de los datos de test\n",
    "    prediccionTest =  RL.predict(X_test_seleccion)\n",
    "    # Llamada a la función que calcula el porcentaje de acierto para los datos de test\n",
    "    accTest = accuracy_score(y_test,prediccionTest)*100\n",
    "    # Se añade el resultado a la lista de resultados de test\n",
    "    # <RELLENAR>\n",
    "    listaAccTest.append(accTest)\n",
    "    print('Manteniendo {} variables se obtiene un accuracy del {}% en test'.format(variablesMantener, accTest))"
   ]
  },
  {
   "cell_type": "markdown",
   "id": "67845205",
   "metadata": {},
   "source": [
    "Seleccionando las 10 mejores variables con SBS se obtiene un accuracy del 57.69% en test, el mejor resultado en este caso. Las variables seleccionadas son:\n",
    "-['Y', 'month', 'day', 'FFMC', 'DMC', 'DC', 'ISI', 'temp', 'RH', 'rain',\n",
    "       'verano']"
   ]
  },
  {
   "cell_type": "markdown",
   "id": "6c6cc648",
   "metadata": {},
   "source": [
    "### RFECV"
   ]
  },
  {
   "cell_type": "code",
   "execution_count": 34,
   "id": "12ea1208",
   "metadata": {},
   "outputs": [
    {
     "name": "stdout",
     "output_type": "stream",
     "text": [
      "Index(['month'], dtype='object')\n",
      "Manteniendo 1 variables se obtiene un accuracy del 56.90072639225182% en entrenamiento\n",
      "Manteniendo 1 variables se obtiene un accuracy del 52.88461538461539% en test\n"
     ]
    }
   ],
   "source": [
    "# Se llama al constructor que realiza la selección de variables en base a la eliminación secuencial de variables utilizando RFECV\n",
    "# Utiliza los parámetros adecuados\n",
    "#meterlo al principio para evitar warnings\n",
    "tecnicaSeleccion =  feature_selection.RFECV(linear_model.LogisticRegression(solver = 'liblinear'),n_jobs=-1,cv=5)\n",
    "# Llamada a la función que aprende los parámetros de la selección de variables a partir de los datos de entrenamiento\n",
    "tecnicaSeleccion.fit(X_train,y_train)\n",
    "# Llamada a la función que transforma los datos de entrenamiento: realiza la selección de variables\n",
    "X_train_seleccion = tecnicaSeleccion.transform(X_train)\n",
    "# Llamada a la función que transforma los datos de test: realiza la selección de variables\n",
    "X_test_seleccion = tecnicaSeleccion.transform(X_test)\n",
    "        # variables seleccionadas\n",
    "listaVariables = columnas[tecnicaSeleccion.get_support()]\n",
    "print(listaVariables)\n",
    "# Realizamos el proceso para la regresión logística por lo que hay que llamar al constructor de dicho clasificador con la configuración apropiada\n",
    "RL = linear_model.LogisticRegression(solver = 'liblinear')\n",
    "# Llamada a la función que realiza el aprendizaje del clasificador\n",
    "RL.fit(X_train_seleccion,y_train)\n",
    "# Llamada a la función que realiza la predicción de los datos de entrenamiento\n",
    "prediccionTrain =  RL.predict(X_train_seleccion)\n",
    "# Llamada a la función que calcula el porcentaje de acierto para los datos de entrenamiento\n",
    "accTrain =  accuracy_score(y_train,prediccionTrain)*100\n",
    "# Obtenemos el número de variables seleccionadas \n",
    "numeroVariablesSeleccionadas = tecnicaSeleccion.n_features_\n",
    "\n",
    "print('Manteniendo {} variables se obtiene un accuracy del {}% en entrenamiento'.format(numeroVariablesSeleccionadas, accTrain))\n",
    "# Llamada a la función que realiza la predicción de los datos de test\n",
    "prediccionTest =  RL.predict(X_test_seleccion)\n",
    "# Llamada a la función que calcula el porcentaje de acierto para los datos de test\n",
    "accTest = accuracy_score(y_test,prediccionTest)*100\n",
    "print('Manteniendo {} variables se obtiene un accuracy del {}% en test'.format(numeroVariablesSeleccionadas, accTest))"
   ]
  },
  {
   "cell_type": "markdown",
   "id": "ff6b6e94",
   "metadata": {},
   "source": [
    "El método RFECV selecciona una variable month con un accuracy de 52.88% en test."
   ]
  },
  {
   "cell_type": "markdown",
   "id": "f7232ea5",
   "metadata": {},
   "source": [
    "Viendo los resultados de la selección de variables vemos que el mejor resultado lo tiene el filtro ANOVA con 10 variables 64% accuracy en test:\n",
    "['X', 'Y', 'month', 'FFMC', 'DMC', 'DC', 'ISI', 'temp', 'RH', 'verano']\n"
   ]
  },
  {
   "cell_type": "markdown",
   "id": "ab66dfa4-f2e8-41ee-aca2-fc73a372536f",
   "metadata": {},
   "source": [
    "Para ello nos quedamos con el clasificador entrenado para evaluar sus métricas de rendimiento."
   ]
  },
  {
   "cell_type": "code",
   "execution_count": 35,
   "id": "8f79fef8",
   "metadata": {},
   "outputs": [],
   "source": [
    "mask = [True, True, True,False, True,True,True,True,True, True, False, False,False, True]\n",
    "X_train = X_train[:,mask]\n",
    "X_test = X_test[:,mask]"
   ]
  },
  {
   "cell_type": "markdown",
   "id": "c9483e2b-5269-4bed-b3a3-cf3b16c2efce",
   "metadata": {},
   "source": [
    "Implementamos un gridsearch paara obtener los mejores hiperparámetros para un clasificador dado y además implementa internamente un proceso de validación cruzada."
   ]
  },
  {
   "cell_type": "markdown",
   "id": "0cd16273",
   "metadata": {},
   "source": [
    "## PREDICCIONES"
   ]
  },
  {
   "cell_type": "markdown",
   "id": "b570b478",
   "metadata": {},
   "source": [
    "### PREDICCION ANOVA+KNN CON GRIDSEARCH"
   ]
  },
  {
   "cell_type": "code",
   "execution_count": 36,
   "id": "3c277d58",
   "metadata": {},
   "outputs": [
    {
     "name": "stdout",
     "output_type": "stream",
     "text": [
      "0.5035997373481544\n",
      "{'KNN__n_neighbors': 5, 'KNN__p': 3, 'KNN__weights': 'uniform'}\n",
      "0.460 (Train: 0.995) for {'KNN__n_neighbors': 1, 'KNN__p': 1, 'KNN__weights': 'uniform'}\n",
      "\n",
      "0.460 (Train: 0.995) for {'KNN__n_neighbors': 1, 'KNN__p': 1, 'KNN__weights': 'distance'}\n",
      "\n",
      "0.453 (Train: 0.995) for {'KNN__n_neighbors': 1, 'KNN__p': 2, 'KNN__weights': 'uniform'}\n",
      "\n",
      "0.453 (Train: 0.995) for {'KNN__n_neighbors': 1, 'KNN__p': 2, 'KNN__weights': 'distance'}\n",
      "\n",
      "0.453 (Train: 0.995) for {'KNN__n_neighbors': 1, 'KNN__p': 1.5, 'KNN__weights': 'uniform'}\n",
      "\n",
      "0.453 (Train: 0.995) for {'KNN__n_neighbors': 1, 'KNN__p': 1.5, 'KNN__weights': 'distance'}\n",
      "\n",
      "0.431 (Train: 0.995) for {'KNN__n_neighbors': 1, 'KNN__p': 3, 'KNN__weights': 'uniform'}\n",
      "\n",
      "0.431 (Train: 0.995) for {'KNN__n_neighbors': 1, 'KNN__p': 3, 'KNN__weights': 'distance'}\n",
      "\n",
      "0.489 (Train: 0.789) for {'KNN__n_neighbors': 3, 'KNN__p': 1, 'KNN__weights': 'uniform'}\n",
      "\n",
      "0.491 (Train: 0.995) for {'KNN__n_neighbors': 3, 'KNN__p': 1, 'KNN__weights': 'distance'}\n",
      "\n",
      "0.477 (Train: 0.768) for {'KNN__n_neighbors': 3, 'KNN__p': 2, 'KNN__weights': 'uniform'}\n",
      "\n",
      "0.475 (Train: 0.995) for {'KNN__n_neighbors': 3, 'KNN__p': 2, 'KNN__weights': 'distance'}\n",
      "\n",
      "0.467 (Train: 0.794) for {'KNN__n_neighbors': 3, 'KNN__p': 1.5, 'KNN__weights': 'uniform'}\n",
      "\n",
      "0.472 (Train: 0.995) for {'KNN__n_neighbors': 3, 'KNN__p': 1.5, 'KNN__weights': 'distance'}\n",
      "\n",
      "0.494 (Train: 0.760) for {'KNN__n_neighbors': 3, 'KNN__p': 3, 'KNN__weights': 'uniform'}\n",
      "\n",
      "0.494 (Train: 0.995) for {'KNN__n_neighbors': 3, 'KNN__p': 3, 'KNN__weights': 'distance'}\n",
      "\n",
      "0.479 (Train: 0.719) for {'KNN__n_neighbors': 5, 'KNN__p': 1, 'KNN__weights': 'uniform'}\n",
      "\n",
      "0.491 (Train: 0.995) for {'KNN__n_neighbors': 5, 'KNN__p': 1, 'KNN__weights': 'distance'}\n",
      "\n",
      "0.479 (Train: 0.700) for {'KNN__n_neighbors': 5, 'KNN__p': 2, 'KNN__weights': 'uniform'}\n",
      "\n",
      "0.482 (Train: 0.995) for {'KNN__n_neighbors': 5, 'KNN__p': 2, 'KNN__weights': 'distance'}\n",
      "\n",
      "0.489 (Train: 0.700) for {'KNN__n_neighbors': 5, 'KNN__p': 1.5, 'KNN__weights': 'uniform'}\n",
      "\n",
      "0.491 (Train: 0.995) for {'KNN__n_neighbors': 5, 'KNN__p': 1.5, 'KNN__weights': 'distance'}\n",
      "\n",
      "0.504 (Train: 0.702) for {'KNN__n_neighbors': 5, 'KNN__p': 3, 'KNN__weights': 'uniform'}\n",
      "\n",
      "0.501 (Train: 0.995) for {'KNN__n_neighbors': 5, 'KNN__p': 3, 'KNN__weights': 'distance'}\n",
      "\n",
      "0.465 (Train: 0.693) for {'KNN__n_neighbors': 7, 'KNN__p': 1, 'KNN__weights': 'uniform'}\n",
      "\n",
      "0.462 (Train: 0.995) for {'KNN__n_neighbors': 7, 'KNN__p': 1, 'KNN__weights': 'distance'}\n",
      "\n",
      "0.484 (Train: 0.693) for {'KNN__n_neighbors': 7, 'KNN__p': 2, 'KNN__weights': 'uniform'}\n",
      "\n",
      "0.492 (Train: 0.995) for {'KNN__n_neighbors': 7, 'KNN__p': 2, 'KNN__weights': 'distance'}\n",
      "\n",
      "0.479 (Train: 0.700) for {'KNN__n_neighbors': 7, 'KNN__p': 1.5, 'KNN__weights': 'uniform'}\n",
      "\n",
      "0.494 (Train: 0.995) for {'KNN__n_neighbors': 7, 'KNN__p': 1.5, 'KNN__weights': 'distance'}\n",
      "\n",
      "0.482 (Train: 0.663) for {'KNN__n_neighbors': 7, 'KNN__p': 3, 'KNN__weights': 'uniform'}\n",
      "\n",
      "0.487 (Train: 0.995) for {'KNN__n_neighbors': 7, 'KNN__p': 3, 'KNN__weights': 'distance'}\n",
      "\n",
      "0.482 (Train: 0.688) for {'KNN__n_neighbors': 9, 'KNN__p': 1, 'KNN__weights': 'uniform'}\n",
      "\n",
      "0.477 (Train: 0.995) for {'KNN__n_neighbors': 9, 'KNN__p': 1, 'KNN__weights': 'distance'}\n",
      "\n",
      "0.453 (Train: 0.676) for {'KNN__n_neighbors': 9, 'KNN__p': 2, 'KNN__weights': 'uniform'}\n",
      "\n",
      "0.462 (Train: 0.995) for {'KNN__n_neighbors': 9, 'KNN__p': 2, 'KNN__weights': 'distance'}\n",
      "\n",
      "0.484 (Train: 0.680) for {'KNN__n_neighbors': 9, 'KNN__p': 1.5, 'KNN__weights': 'uniform'}\n",
      "\n",
      "0.487 (Train: 0.995) for {'KNN__n_neighbors': 9, 'KNN__p': 1.5, 'KNN__weights': 'distance'}\n",
      "\n",
      "0.453 (Train: 0.666) for {'KNN__n_neighbors': 9, 'KNN__p': 3, 'KNN__weights': 'uniform'}\n",
      "\n",
      "0.453 (Train: 0.995) for {'KNN__n_neighbors': 9, 'KNN__p': 3, 'KNN__weights': 'distance'}\n",
      "\n"
     ]
    }
   ],
   "source": [
    "from sklearn import model_selection\n",
    "\n",
    "# Se crea la Pipeline con las fases deseadas\n",
    "pipe = Pipeline([('KNN', KNeighborsClassifier())])\n",
    "# Se crea el grid de híper-parámetros\n",
    "parameters = {'KNN__n_neighbors':[1,3,5,7,9],'KNN__weights':['uniform','distance'],\n",
    "              'KNN__p':[1, 2 ,1.5,3]}\n",
    "# Se llama al constructor de GridSearchCV para que genere todas las combinaciones de los híper-parámetros definidos anteriormente\n",
    "gridSearch_pipe = model_selection.GridSearchCV(pipe,parameters,cv=2,return_train_score = True ,scoring='accuracy')\n",
    "# Se realiza el aprendizaje de todos los clasificadores considerados (todas las configuraciones)\n",
    "gridSearch_pipe.fit(X_train,y_train)\n",
    "# Se muestra la mejor configuración junto con su rendimiento\n",
    "print(gridSearch_pipe.best_score_)\n",
    "print(gridSearch_pipe.best_params_)\n",
    "\n",
    "\n",
    "# Almacenamos el DataFrame con los resultados\n",
    "diccionarioResultados = gridSearch_pipe.cv_results_\n",
    "\n",
    "# Se imprime el mejor porcentaje de acierto y los resultados de todas las configuraciones\n",
    "# <RELLENAR>\n",
    "resultadosMostrar = zip(gridSearch_pipe.cv_results_['params'],gridSearch_pipe.cv_results_['mean_test_score'],gridSearch_pipe.cv_results_['mean_train_score'])\n",
    "for params, mean_test_score, mean_train_score in resultadosMostrar:\n",
    "    print(\"%0.3f (Train: %0.3f) for %r\" % (mean_test_score, mean_train_score, params))\n",
    "    print()\n",
    "\n",
    "\n",
    "# Se obtiene el rendimiento en entrenamiento y test por la mejor configuración\n",
    "bsKNN = gridSearch_pipe.best_estimator_\n",
    "accTrain = bsKNN.score(X_train,y_train)*100\n",
    "accTest = bsKNN.score(X_test,y_test)*100"
   ]
  },
  {
   "cell_type": "code",
   "execution_count": 37,
   "id": "225179c4",
   "metadata": {},
   "outputs": [
    {
     "name": "stdout",
     "output_type": "stream",
     "text": [
      "accuracy en train: 68.52300242130751\n",
      "accuracy en test: 63.46153846153846\n"
     ]
    }
   ],
   "source": [
    "print('accuracy en train:', accTrain)\n",
    "print('accuracy en test:', accTest)"
   ]
  },
  {
   "cell_type": "markdown",
   "id": "41c90e0a",
   "metadata": {},
   "source": [
    "Usando estas mejoras, mejoramos las predicciones iniciales"
   ]
  },
  {
   "cell_type": "markdown",
   "id": "476d4e85-01e7-4777-b94f-dafd38bae6e6",
   "metadata": {},
   "source": [
    "Probamos diferentes clasificadores para ver cual era el que mejor se adaptaba a nuestro problema."
   ]
  },
  {
   "cell_type": "markdown",
   "id": "bf444a38-32c1-4673-9cb2-e6cb4ff6df84",
   "metadata": {},
   "source": [
    "### Regresión logística"
   ]
  },
  {
   "cell_type": "code",
   "execution_count": 38,
   "id": "ffb90d10",
   "metadata": {},
   "outputs": [
    {
     "name": "stderr",
     "output_type": "stream",
     "text": [
      "C:\\Users\\lukep\\AppData\\Roaming\\Python\\Python38\\site-packages\\sklearn\\model_selection\\_validation.py:372: FitFailedWarning: \n",
      "70 fits failed out of a total of 140.\n",
      "The score on these train-test partitions for these parameters will be set to nan.\n",
      "If these failures are not expected, you can try to debug them by setting error_score='raise'.\n",
      "\n",
      "Below are more details about the failures:\n",
      "--------------------------------------------------------------------------------\n",
      "70 fits failed with the following error:\n",
      "Traceback (most recent call last):\n",
      "  File \"C:\\Users\\lukep\\AppData\\Roaming\\Python\\Python38\\site-packages\\sklearn\\model_selection\\_validation.py\", line 680, in _fit_and_score\n",
      "    estimator.fit(X_train, y_train, **fit_params)\n",
      "  File \"C:\\Users\\lukep\\AppData\\Roaming\\Python\\Python38\\site-packages\\sklearn\\linear_model\\_logistic.py\", line 1461, in fit\n",
      "    solver = _check_solver(self.solver, self.penalty, self.dual)\n",
      "  File \"C:\\Users\\lukep\\AppData\\Roaming\\Python\\Python38\\site-packages\\sklearn\\linear_model\\_logistic.py\", line 447, in _check_solver\n",
      "    raise ValueError(\n",
      "ValueError: Solver lbfgs supports only 'l2' or 'none' penalties, got l1 penalty.\n",
      "\n",
      "  warnings.warn(some_fits_failed_message, FitFailedWarning)\n",
      "C:\\Users\\lukep\\AppData\\Roaming\\Python\\Python38\\site-packages\\sklearn\\model_selection\\_search.py:969: UserWarning: One or more of the test scores are non-finite: [       nan 0.54001161        nan 0.55952381        nan 0.53031359\n",
      "        nan 0.50865273        nan 0.50377468        nan 0.50377468\n",
      "        nan 0.5062137 ]\n",
      "  warnings.warn(\n"
     ]
    }
   ],
   "source": [
    "from sklearn.linear_model import LogisticRegression\n",
    "from sklearn import svm\n",
    "grid={\"C\":np.logspace(-3,3,7), \"penalty\":[\"l1\",\"l2\"]}# l1 lasso l2 ridge\n",
    "logreg=LogisticRegression()\n",
    "logreg_cv=model_selection.GridSearchCV(logreg,grid,cv=10)\n",
    "logreg_cv.fit(X_train,y_train)\n",
    "mejorLR = logreg_cv.best_estimator_\n",
    "accTrainRL = mejorLR.score(X_train,y_train)*100\n",
    "accTestRL = mejorLR.score(X_test,y_test)*100"
   ]
  },
  {
   "cell_type": "code",
   "execution_count": 39,
   "id": "cc6a9fc3",
   "metadata": {},
   "outputs": [
    {
     "name": "stdout",
     "output_type": "stream",
     "text": [
      "accuracy en train: 58.83777239709443\n",
      "accuracy en test: 55.769230769230774\n"
     ]
    }
   ],
   "source": [
    "print('accuracy en train:', accTrainRL)\n",
    "print('accuracy en test:', accTestRL)"
   ]
  },
  {
   "cell_type": "markdown",
   "id": "30865843-a101-428a-aed3-804d812f7fa5",
   "metadata": {},
   "source": [
    "## SVM"
   ]
  },
  {
   "cell_type": "code",
   "execution_count": 40,
   "id": "095bd98e",
   "metadata": {},
   "outputs": [
    {
     "name": "stdout",
     "output_type": "stream",
     "text": [
      "{'C': 3, 'gamma': 0.03}\n"
     ]
    }
   ],
   "source": [
    "\n",
    "# Creamos el diccionario de parámetros a optimizar con los valores de C y gamma probados anteriormente\n",
    "# <RELLENAR>\n",
    "C_values = [0.01, 0.03, 0.1, 0.3, 1, 3, 10, 30, 100]\n",
    "gamma_values = [0.01, 0.03, 0.1, 0.3, 1, 3, 10, 30, 100]\n",
    "param_grid = {'C': C_values, 'gamma': gamma_values}\n",
    "# Haz la llamada a la función GridSearchCV con un clasificador SVC, el diccionario de parámetros definido y 10 particiones\n",
    "# <RELLENAR>\n",
    "clasificador = svm.SVC(kernel = 'rbf')\n",
    "clasificadores = model_selection.GridSearchCV(clasificador,param_grid,cv = 10)\n",
    "# Entrena los modelos y guarda el mejor resultado en accTrainBest\n",
    "# <RELLENAR>\n",
    "clasificadores.fit(X_train,y_train)\n",
    "print(clasificadores.best_params_)\n",
    "accTrainBest = clasificadores.best_score_\n",
    "mejorSVM = clasificadores.best_estimator_\n",
    "accTrainSVM = mejorSVM.score(X_train,y_train)*100\n",
    "accTestSVM = mejorSVM.score(X_test,y_test)*100"
   ]
  },
  {
   "cell_type": "code",
   "execution_count": 41,
   "id": "75dc2037",
   "metadata": {},
   "outputs": [
    {
     "name": "stdout",
     "output_type": "stream",
     "text": [
      "accuracy en train: 62.95399515738499\n",
      "accuracy en test: 58.65384615384615\n"
     ]
    }
   ],
   "source": [
    "print('accuracy en train:', accTrainSVM)\n",
    "print('accuracy en test:', accTestSVM)"
   ]
  },
  {
   "cell_type": "markdown",
   "id": "ff607e19-a85f-4e97-9925-edb112e3a420",
   "metadata": {},
   "source": [
    "## Decision tree "
   ]
  },
  {
   "cell_type": "code",
   "execution_count": 42,
   "id": "df4a74c2",
   "metadata": {},
   "outputs": [
    {
     "name": "stdout",
     "output_type": "stream",
     "text": [
      "Fitting 2 folds for each of 54 candidates, totalling 108 fits\n",
      "0.5253857698982224\n",
      "{'ccp_alpha': 0.001, 'criterion': 'gini', 'min_samples_leaf': 4, 'min_samples_split': 10}\n"
     ]
    }
   ],
   "source": [
    "arbolDecision = tree.DecisionTreeClassifier(random_state=123)\n",
    "hiperParameters = {'criterion':['gini','entropy'],'min_samples_split':[2,5,10],'min_samples_leaf':[1,2,4],'ccp_alpha':[0.001, 0.002 ,0.003]}\n",
    "gridSearch = model_selection.GridSearchCV(arbolDecision,hiperParameters,cv=2,scoring='accuracy',return_train_score = True,n_jobs=-1,verbose=4 )\n",
    "gridSearch.fit(X_train,y_train)\n",
    "# Se muestra la mejor configuración junto con su rendimiento\n",
    "print(gridSearch.best_score_)\n",
    "print(gridSearch.best_params_)\n",
    "# Almacenamos el DataFrame con los resultados\n",
    "diccionarioResultados =  gridSearch.cv_results_\n",
    "# Se obtiene el rendimiento en entrenamiento y test por la mejor configuración\n",
    "mejorTree = gridSearch.best_estimator_\n",
    "accTrain = mejorTree.score(X_train,y_train)*100\n",
    "accTest = mejorTree.score(X_test,y_test)*100"
   ]
  },
  {
   "cell_type": "code",
   "execution_count": 43,
   "id": "b9c4ed87",
   "metadata": {},
   "outputs": [
    {
     "name": "stdout",
     "output_type": "stream",
     "text": [
      "accuracy en train: 83.53510895883777\n",
      "accuracy en test: 61.53846153846154\n"
     ]
    }
   ],
   "source": [
    "print('accuracy en train:', accTrain)\n",
    "print('accuracy en test:', accTest)"
   ]
  },
  {
   "cell_type": "markdown",
   "id": "f5155732",
   "metadata": {},
   "source": [
    "Evaluamos diferentes modelos de clasificación y observamos que el mejor rendimiento en test lo obtenemos con KNN"
   ]
  },
  {
   "cell_type": "markdown",
   "id": "f035cb03",
   "metadata": {},
   "source": [
    "## MÉTRICAS DE RENDIMIENTO"
   ]
  },
  {
   "cell_type": "markdown",
   "id": "3525502e",
   "metadata": {},
   "source": [
    "### Matrices de confusión"
   ]
  },
  {
   "cell_type": "code",
   "execution_count": 44,
   "id": "95895adf",
   "metadata": {},
   "outputs": [],
   "source": [
    "from sklearn.metrics import plot_confusion_matrix\n",
    "def obtenerMatrizConfusion(clf,X,y):\n",
    "    y_pred = clf.predict(X)\n",
    "    confux =  metrics.confusion_matrix(y,y_pred,labels = [1,0])\n",
    "    plot_confusion_matrix(clf,X,y,labels = [1,0])\n",
    "    plt.show()\n",
    "    return confux"
   ]
  },
  {
   "cell_type": "code",
   "execution_count": 45,
   "id": "1c628338",
   "metadata": {},
   "outputs": [
    {
     "name": "stderr",
     "output_type": "stream",
     "text": [
      "C:\\Users\\lukep\\AppData\\Roaming\\Python\\Python38\\site-packages\\sklearn\\utils\\deprecation.py:87: FutureWarning: Function plot_confusion_matrix is deprecated; Function `plot_confusion_matrix` is deprecated in 1.0 and will be removed in 1.2. Use one of the class methods: ConfusionMatrixDisplay.from_predictions or ConfusionMatrixDisplay.from_estimator.\n",
      "  warnings.warn(msg, category=FutureWarning)\n"
     ]
    },
    {
     "data": {
      "image/png": "[encoded data removed]",
      "text/plain": [
       "<Figure size 432x288 with 2 Axes>"
      ]
     },
     "metadata": {
      "needs_background": "light"
     },
     "output_type": "display_data"
    },
    {
     "name": "stderr",
     "output_type": "stream",
     "text": [
      "C:\\Users\\lukep\\AppData\\Roaming\\Python\\Python38\\site-packages\\sklearn\\utils\\deprecation.py:87: FutureWarning: Function plot_confusion_matrix is deprecated; Function `plot_confusion_matrix` is deprecated in 1.0 and will be removed in 1.2. Use one of the class methods: ConfusionMatrixDisplay.from_predictions or ConfusionMatrixDisplay.from_estimator.\n",
      "  warnings.warn(msg, category=FutureWarning)\n"
     ]
    },
    {
     "data": {
      "image/png": "[encoded data removed]",
      "text/plain": [
       "<Figure size 432x288 with 2 Axes>"
      ]
     },
     "metadata": {
      "needs_background": "light"
     },
     "output_type": "display_data"
    }
   ],
   "source": [
    "matrizConfusion_train_KNN = obtenerMatrizConfusion(bsKNN,X_train,y_train)\n",
    "matrizConfusion_test_KNN = obtenerMatrizConfusion(bsKNN,X_test,y_test)"
   ]
  },
  {
   "cell_type": "code",
   "execution_count": 46,
   "id": "52656e21",
   "metadata": {},
   "outputs": [
    {
     "name": "stdout",
     "output_type": "stream",
     "text": [
      "              precision    recall  f1-score   support\n",
      "\n",
      "     class 0       0.69      0.62      0.65       197\n",
      "     class 1       0.68      0.75      0.71       216\n",
      "\n",
      "    accuracy                           0.69       413\n",
      "   macro avg       0.69      0.68      0.68       413\n",
      "weighted avg       0.69      0.69      0.68       413\n",
      "\n"
     ]
    }
   ],
   "source": [
    "y_pred = bsKNN.predict(X_train)\n",
    "target_names = ['class 0', 'class 1']\n",
    "print(metrics.classification_report(y_train,y_pred, target_names = target_names))"
   ]
  },
  {
   "cell_type": "code",
   "execution_count": 47,
   "id": "672dc399",
   "metadata": {},
   "outputs": [
    {
     "name": "stdout",
     "output_type": "stream",
     "text": [
      "              precision    recall  f1-score   support\n",
      "\n",
      "     class 0       0.62      0.62      0.62        50\n",
      "     class 1       0.65      0.65      0.65        54\n",
      "\n",
      "    accuracy                           0.63       104\n",
      "   macro avg       0.63      0.63      0.63       104\n",
      "weighted avg       0.63      0.63      0.63       104\n",
      "\n"
     ]
    }
   ],
   "source": [
    "y_pred = bsKNN.predict(X_test)\n",
    "target_names = ['class 0', 'class 1']\n",
    "print(metrics.classification_report(y_test,y_pred, target_names = target_names))"
   ]
  },
  {
   "cell_type": "markdown",
   "id": "56d857a6",
   "metadata": {},
   "source": [
    "Observamos que los valores de las diagonales tanto como para train y test son los más grandes, esto quiere decir que la mayoría de los ejemplos son clasificados correctamente. Además la precisión y el recall no son datos demasiado malos, son superiores a 0.5, que es lo que sería un clasificador aleatorio."
   ]
  },
  {
   "cell_type": "markdown",
   "id": "b81dd4e9",
   "metadata": {},
   "source": [
    "### Curva ROC"
   ]
  },
  {
   "cell_type": "code",
   "execution_count": 48,
   "id": "fd27eae0",
   "metadata": {},
   "outputs": [],
   "source": [
    "# Función que muestra la curva ROC para una lista de clasificadores (listaClfs) y unos datos de entrada (X) y salida (y)\n",
    "    # labels son los nombres de los clasificadores utilizados\n",
    "def muestra_ROC_courve(listaClfs, X, y, labels):\n",
    "    # generamos una predicción sin calidad para la clase positiva (1): todas las predicciones con probabilidad 0      \n",
    "    ns_probs = np.zeros(len(y))\n",
    "    # calculamos el área bajo la curva ROC (método roc_auc_score pasando las clases reales y las probabilidades de la clase positiva)\n",
    "        # En tanto por 100\n",
    "    ns_auc = metrics.roc_curve(y, ns_probs)*100\n",
    "    # calculamos todos los pares de puntos (fpr, tpr) para dibujar la curva ROC (método roc_curve pasando las clases reales y las probabilidades de la clase positiva)\n",
    "    ns_fpr, ns_tpr, _ = metrics.roc_curve(y,ns_probs)\n",
    "    \n",
    "    # Lista para almacenar los AUC bajo la curva ROC de los clasificadores\n",
    "    listaAUCs = []\n",
    "    # Para cada clasificador de la lista\n",
    "    for i,clf in enumerate(listaClfs):\n",
    "        # predecimos las probabilidades de predecir cada ejemplo en cada clase en base al método que implemente el clasificador\n",
    "        if hasattr(clf, 'predict_proba'):\n",
    "            # Si el clasificador implementa predict_proba nos quedamos con las predicciones de la clase positiva (1)\n",
    "            model_probs = clf.predict_proba(X)[:,1]\n",
    "        else:\n",
    "            # Si el clasificador implementa decision_function\n",
    "            model_probs = clf.decision_function(X)\n",
    "\n",
    "        # calculamos todos los pares de puntos (fpr, tpr) para dibujar la curva ROC (método roc_curve pasando las clases reales y las probabilidades de la clase positiva)\n",
    "        model_fpr, model_tpr, _ = metrics.roc_curve(y,model_probs)\n",
    "        # calculamos el área bajo la curva ROC, y lo añadimos a la lista de rendimiento, en tanto por 100\n",
    "        model_auc = metrics.auc(model_fpr,model_tpr)*100\n",
    "        listaAUCs.append(model_auc) \n",
    "        # Mostramos visualmente la curva ROC (plot mostrando fpr en el eje x y tpr en el eje y) poniendo como etiqueta el nombre del clasificador\n",
    "        # <RELLENAR>\n",
    "        plt.plot(model_fpr,model_tpr)\n",
    "        \n",
    "    # mostramos la curva del modelo sin calidad\n",
    "    # <RELLENAR>\n",
    "    plt.plot(ns_fpr,ns_tpr)\n",
    "    # Etiquetamos los ejes\n",
    "    # <RELLENAR>\n",
    "    plt.xlabel('FPR')\n",
    "    plt.ylabel('TPR')\n",
    "    # Creamos la leyenda de la figura\n",
    "    # <RELLENAR>\n",
    "    plt.legend([labels[0],'sin calidad'])\n",
    "    # Ponemos título a la figura\n",
    "    # <RELLENAR>\n",
    "    plt.title('Curva ROC')\n",
    "    # Mostramos la figura\n",
    "    # <RELLENAR>\n",
    "    plt.show()\n",
    "    # Devolvemos la lista con los AUC de los diferentes clasificadores\n",
    "    # <RELLENAR>\n",
    "    return listaAUCs"
   ]
  },
  {
   "cell_type": "code",
   "execution_count": 49,
   "id": "902030d8",
   "metadata": {},
   "outputs": [
    {
     "data": {
      "image/png": "[encoded data removed]",
      "text/plain": [
       "<Figure size 432x288 with 1 Axes>"
      ]
     },
     "metadata": {
      "needs_background": "light"
     },
     "output_type": "display_data"
    }
   ],
   "source": [
    "listaAUCs = muestra_ROC_courve([bsKNN], X_train, y_train, ['Knn'])"
   ]
  },
  {
   "cell_type": "markdown",
   "id": "59e6e184",
   "metadata": {},
   "source": [
    "Podemos ver con la curva ROC mejora las predicciones de un clasificador aleatorio."
   ]
  },
  {
   "cell_type": "markdown",
   "id": "7c5332a7-842b-42f3-86c3-3c10486e4029",
   "metadata": {},
   "source": [
    "   ## Seleccion de instancias: COMPROBAMOS QUE NO MEJORAN NUESTRO MODELO. No lo hemos acabado implementandolo  "
   ]
  },
  {
   "cell_type": "code",
   "execution_count": 50,
   "id": "346c841e-ca92-4335-82f7-1e13413cebb4",
   "metadata": {},
   "outputs": [],
   "source": [
    "def leaveOneOut(clasificador, X, y):\n",
    "    \"\"\"\n",
    "    :param clasificador: Instancia de un clasificador de Scikit-Learn entrenada (con fit hecho con los datos de train o el subconjunto seleccionado)\n",
    "    :param X: Matriz con los ejemplos de entrenamiento completo (para hacer leave one out)\n",
    "    :param y: Vector con la salida de los ejemplos de entrenamiento completo (correspondientes a X)\n",
    "    :return: Vector con la salida obtenida para cada ejemplo de X (siguiendo el esquema leave-one-out)\n",
    "    \"\"\"\n",
    "    # En caso de que el clasificador no sea KNN simplemente se utiliza el clasificador aprendido y se predicen los ejemplos con dicho clasificador\n",
    "    if type(clasificador) != KNeighborsClassifier:\n",
    "        # Utiliza el método predict para obtener la predicción\n",
    "        prediction = clasificador.predict(X)\n",
    "        return prediction\n",
    "    \n",
    "    # En otro caso será una instancia de KNeighborsClassifier\n",
    "    # kneighbors nos devuelve los vecinos más cercanos de cada ejemplo en X y las distancias asociadas\n",
    "        # distancias y vecinos serán matrices de numEjemplos x k+1 elementos\n",
    "    distancias, vecinos = clasificador.kneighbors(X, n_neighbors=clasificador.n_neighbors + 1, return_distance=True)\n",
    "    # Realmente no estamos interesados en el propio vecino, sino en la clase a la que pertenece\n",
    "    # Transformamos los vecinos a una matriz con la clase de cada vecino\n",
    "    # Accedemos a las clases de los ejemplos de entrenamiento (atributo _y del clasificador knn) \n",
    "        # y cogemos los elementos en las posiciones de los vecinos calculados anteriormente\n",
    "    vecinosClase = clasificador._y[vecinos]\n",
    "    \n",
    "    # Ahora queda decidir la clase de salida para cada uno de los ejemplos\n",
    "    # Debemos tener en cuenta: Si la distancia al primer vecino es 0, el vecino es el propio ejemplo y por tanto no lo usamos para decidir\n",
    "    #   1. Obtenemos una máscara con los ejemplos en los que ocurre esto\n",
    "    #   2. Sustituimos la clase del primer vecino por la del último (el k+1 que sino no se utiliza)\n",
    "    #   3. Obtenemos la moda (stats.mode) (el valor más repetido de clase) para cada fila (cogiendo los k primeros valores)\n",
    "    mascara =  distancias[:,0] == 0\n",
    "    vecinosClase[mascara,0] =  vecinosClase[mascara,-1]\n",
    "    prediction,_ =  stats.mode(vecinosClase[:,:-1],axis = 1)\n",
    "    \n",
    "\n",
    "    return prediction"
   ]
  },
  {
   "cell_type": "code",
   "execution_count": 51,
   "id": "0194e514-a116-4548-952d-3ad55ed04cf2",
   "metadata": {},
   "outputs": [],
   "source": [
    "def ENN(X, y, k=3):\n",
    "    \"\"\"\n",
    "    Algoritmo ENN para la selección de instancias. Cada ejemplo se elimina si se clasifica incorrectamente por sus k vecinos más cercanos\n",
    "    :param X: Matriz con los ejemplos de entrenamiento (se asume que los ejemplos están normalizados)\n",
    "    :param y: Vector con la salida de los ejemplos en X\n",
    "    :param k: Valor de k a utilizar en ENN\n",
    "    :return: Vector con la máscara de instancias seleccionadas \n",
    "            (La posición S[i]=True indica que la instancia i ha sido seleccionada y False lo contrario)\n",
    "    \"\"\"\n",
    "    # S es una máscara de booleanos que indica si el ejemplo en la posición i está seleccionado (True) o no lo está (False)\n",
    "    # inicialmente todos los índices/instancias son seleccionadas\n",
    "    S =  np.ones(X.shape[0], dtype=bool)\n",
    "\n",
    "    # Creamos el clasificador knn con el valor de k dado\n",
    "    knn = KNeighborsClassifier(k)\n",
    "\n",
    "    # Para cada ejemplo, comprobamos si este es fallado al ser clasificado por sus k vecinos más cercanos (sin contar a sí mismo)\n",
    "    for i in range(0, X.shape[0]):\n",
    "        # Eliminamos el ejemplo de la selección para no tenerlo en cuenta al clasificarlo: modificar la máscara\n",
    "        # <RELLENAR>\n",
    "        S[i] = False\n",
    "        # Entrenamos knn con el conjunto de instancias seleccionadas actualmente\n",
    "        # <RELLENAR>\n",
    "        knn.fit(X[S,:],y[S])\n",
    "        # Si la instancia es correctamente clasificada restauramos su valor en la máscara\n",
    "        # <RELLENAR>\n",
    "        prediction = knn.predict(X[i,:].reshape(1,-1))\n",
    "        if(prediction == y[i]):\n",
    "            S[i] = True\n",
    "        \n",
    "    return S"
   ]
  },
  {
   "cell_type": "code",
   "execution_count": 52,
   "id": "cc1f0834-fcb7-453b-9b8c-9ab45a3349f6",
   "metadata": {},
   "outputs": [],
   "source": [
    "def ejecutaMetodoIS(funcionMetodo, clasificador, X_train, y_train, X_test, y_test, verbose=True):\n",
    "    \"\"\"\n",
    "    Esta función se encajar de ejecutar un método de selección de instancias y dar los resultados sobre train y test\n",
    "    con el clasificador introducido como parámetro\n",
    "    :param funcionMetodo: Función con el método de selección de instancias a ejecutar\n",
    "    :param clasificador: Instancia del clasificador a utilizar para obtener la precisión en train y test\n",
    "    :params X_train e y_train: Conjunto de datos de entrada y salida de los datos de entrenamiento\n",
    "    :params X_test e y_test: Conjunto de datos de entrada y salida de los datos de test\n",
    "    :return: tupla con la máscara de ejemplos seleccionados, la precisión en train, precisión en test y porcentaje de reducción obtenido\n",
    "    \"\"\"\n",
    "    # Obtenemos el nombre del método. Como es una función utilizamos su campo __name__\n",
    "    nombreMetodo = funcionMetodo.__name__\n",
    "    if verbose:\n",
    "        print (\"Ejecutando \" + nombreMetodo + \"...\")\n",
    "    # Ejecutamos el método de selección de instancias correspondiente con los ejemplos de entrenamiento y sus clases\n",
    "        # Utilizad todos los métodos con los parámetros por defecto y almacenad la máscara devuelta en una variable llamada S\n",
    "    # <RELLENAR>\n",
    "    S = funcionMetodo(X_train,y_train)\n",
    "    # Entrenamos el clasificador correspondiente solo con los ejemplos seleccionados (aplicamos la máscara S)\n",
    "    # <RELLENAR>\n",
    "    clasificador = clasificador.fit(X_train[S,:],y_train[S])\n",
    "#     # Obtenemos las salidas para train mediante leaveOneOut\n",
    "    predictionTrain = leaveOneOut(clasificador,X_train,y_train)\n",
    "#     # Obtenemos la precisión en train con las salidas obtenidas (tanto por uno)\n",
    "    accTrain =metrics.accuracy_score(y_train,predictionTrain)\n",
    "#     # Obtenemos las salidas para test \n",
    "    predictionTest = clasificador.predict(X_test)\n",
    "    \n",
    "    # Obtenemos la precisión en test  (tanto por uno)\n",
    "    accTest = metrics.accuracy_score(y_test,predictionTest)\n",
    "    # Calculamos el porcentaje de reducción\n",
    "    reduction = (1-(S.sum())/S.size)*100\n",
    "        \n",
    "    \n",
    "    if verbose:\n",
    "#         print(\"Dataset \" + dataset)\n",
    "        print(\"Resultados \" + nombreMetodo + \" python\")\n",
    "        print(\"Precisión en train: {}\".format(accTrain))\n",
    "        print(\"Precisión en test: {}\".format(accTest))\n",
    "        print(\"Reducción \" + nombreMetodo + \": {} de {}\".format(S.sum(), S.size))\n",
    "        print(\"Reducción: %2.2f%%\" % reduction)\n",
    "        # En caso de ser un árbol, imprimimos el número de reglas obtenidas\n",
    "        if type(clasificador) == tree.DecisionTreeClassifier:\n",
    "            print(\"Número de reglas: {}\".format(clasificador.tree_.node_count))\n",
    "\n",
    "    # Mostramos los resultados obtenidos por el método gráficamente\n",
    "#     mostrar(clasificador, X_train, y_train, X_test, y_test,  nombreMetodo, X_train[S, :], y_train[S])\n",
    "\n",
    "    # Si es un árbol, devolvemos el número de reglas obtenidas\n",
    "    nReglas = -1\n",
    "    if type(clasificador) == tree.DecisionTreeClassifier:\n",
    "        nReglas = clasificador.tree_.node_count\n",
    "    return S, accTrain, accTest, reduction, nReglas"
   ]
  },
  {
   "cell_type": "code",
   "execution_count": 53,
   "id": "21e3c2e5-0ee4-4a46-9f80-1eb48c9ac93f",
   "metadata": {},
   "outputs": [],
   "source": [
    "def CNN(X, y, k=1):\n",
    "    \"\"\"\n",
    "    Algoritmo CNN para la selección de instancias. Se comienza con dos ejemplos aleatorios (uno de cada clase) y cada ejemplo\n",
    "    que se falla al ser clasificado por los ya seleccionados se añade a la selección (se para cuando ya no se añaden más ejemplos)\n",
    "    :param X: Matriz con los ejemplos de entrenamiento (se asume que los ejemplos están normalizados)\n",
    "    :param y: Vector con la salida de los ejemplos en X\n",
    "    :param k: Valor de k a utilizar en CNN\n",
    "    :return: Vector con la máscara de instancias seleccionadas \n",
    "            (La posición S[i]=True indica que la instancia i ha sido seleccionada y False lo contrario)\n",
    "    \"\"\"\n",
    "    # Como usamos aleatorios en CNN establecemos la semilla para que el test sea correcto y siempre obtengamos el mismo resultado\n",
    "    np.random.seed(12312)\n",
    "    # Creamos el clasificador knn con el valor de k dado\n",
    "    knn = KNeighborsClassifier(k)\n",
    "    # S es una máscara de booleanos que indica si el ejemplo en la posición i está seleccionado (True) o no lo está (False)\n",
    "    S = np.array(([False]*X.shape[0]))\n",
    "\n",
    "\n",
    "    # Inicialmente, seleccionamos aleatoriamente una instancia de cada clase\n",
    "    # Anotamos el número de clases\n",
    "    nClases = np.unique(y)\n",
    "    # Para cada clase, buscamos los índices de los ejemplos de dicha clase y seleccionamos uno de ellos aleatoriamente\n",
    "    # Dicho ejemplo coge el valor True en S\n",
    "    for c in nClases:\n",
    "        indicesClase = np.where(y == c)[0]  # np.where devuelve una tupla, nos interesa la primera parte que contiene los índices de las posiciones que no son 0 o False\n",
    "        # Elegid una instancia aleatoriamente de las de la clase: utilizad randint de Numpy para ello\n",
    "        instanciaAleatoria = indicesClase[np.random.randint(len(indicesClase))]\n",
    "        # Modificad la máscara S de acuerdo a la instancia seleccionada\n",
    "        # <RELLENAR>\n",
    "        S[instanciaAleatoria] = True\n",
    "    # Solo evaluamos los ejemplos que no están en S (los que están se aciertan por definición al considerlos\n",
    "    # como vecinos de sí mismos). Estos ejemplos son los únicos que podemos añadir a S\n",
    "    notS = S == False\n",
    "\n",
    "    # \"Entrenamos\" knn con los ejemplos seleccionados\n",
    "    knn = knn.fit(X[S,:], y[S])\n",
    "\n",
    "    # Inicializamos el número de fallados para entrar en el bucle. El algoritmo termina cuando no se fallan ejemplos\n",
    "    fallados = -1\n",
    "    while fallados != 0:\n",
    "        # Ponemos el contador de fallados a 0 y comprobamos todos los ejemplos no seleccionados\n",
    "        fallados = 0\n",
    "        # Obtenemos los índices de los ejemplos no seleccionados: utilizad np.where como se ha hecho anteriormente\n",
    "        indices = np.where(notS)[0]\n",
    "        # Para cada ejemplo no seleccionado (y en orden aleatorio) comprobamos si dicho ejemplo se falla         \n",
    "        # con las instancias en S actualmente. Si se falla, el ejemplo se añade a S, se reentrena KNN y se suma uno a fallados\n",
    "        for i in np.random.permutation(indices):\n",
    "#           #<RELLENAR>\n",
    "            prediction = knn.predict(X[i,:].reshape(1,-1))\n",
    "            if(prediction != y[i]):\n",
    "                S[i] = True\n",
    "                knn = knn.fit(X[S,:], y[S])\n",
    "                fallados += 1\n",
    "            \n",
    "        # Recalculamos los ejemplos a estudiar en la próxima iteración, aquellos no seleccionados\n",
    "        notS = np.invert(S)\n",
    "        \n",
    "        print(\"CNN, fin de iteración, fallados: {}, ejemplos en S: {}\".format(fallados, np.sum(S)))\n",
    "\n",
    "    return S"
   ]
  },
  {
   "cell_type": "code",
   "execution_count": 54,
   "id": "e08cdc2b-1ba4-45dc-9aae-1219b1ff615e",
   "metadata": {},
   "outputs": [],
   "source": [
    "def RMHC(X, y, s=0.1, iteraciones=1000, k=1):\n",
    "    \"\"\"\n",
    "     Algoritmo RMHC (Random Mutation Hill Climbing) para la selección de instancias.\n",
    "      Se comienza con una selección aleatoria de s * nEjemplos instancias. Para cada iteración, se elige una instancia\n",
    "      seleccionada y una no seleccionada para ser intercambiadas. Si el intercambio mejora la precisión (leave-one-out) sobre train\n",
    "      se mantiene el cambio, sino se deshace\n",
    "    :param X: Matriz con los ejemplos de entrenamiento (se asume que los ejemplos están normalizados)\n",
    "    :param y: Vector con la salida de los ejemplos en X\n",
    "    :param s: Porcentaje de instancias a ser seleccionadas (s es un valor entre 0 y 1)\n",
    "    :param iteraciones: Número de iteraciones (intercambios) a probar\n",
    "    :param k: Valor de k a utilizar en RMHC\n",
    "    :return: Vector con la máscara de instancias seleccionadas \n",
    "            (La posición S[i]=True indica que la instancia i ha sido seleccionada y False lo contrario)\n",
    "    \"\"\"\n",
    "    # Como usamos aleatorios en RMHC establecemos la semilla para que el test sea correcto y siempre obtengamos el mismo resultado\n",
    "    np.random.seed(12312)\n",
    "    # Creamos el clasificador knn con el valor de k dado\n",
    "    knn = KNeighborsClassifier(k)\n",
    "\n",
    "    # En este caso vamos a mantener dos vectores de enteros con los índices de las instancias seleccionadas y no seleccionadas\n",
    "    # Establecemos el número de instancias a seleccionar (es fijo)\n",
    "    nSel = int(s * X.shape[0])\n",
    "    # Obtenemos una permutación aleatoria de todos los índices disponibles \n",
    "    # (un array de 0 a X.shape[0] con valores ordenados aleatoriamente): utilizad permutation de Numpy\n",
    "    permute = np.random.permutation(np.arange(0,X.shape[0]))\n",
    "    # Cogemos como seleccionadas las instancias correspondientes a los primeros nSel índices  y no seleccionadas el resto\n",
    "    seleccionadas = permute[:nSel]\n",
    "    noSeleccionadas = permute[nSel:]\n",
    "\n",
    "    # Calculamos la preicisión con la selección inicial\n",
    "    # Entrenamos KNN con las instancias seleccionadas\n",
    "    # <RELLENAR>\n",
    "    knn = knn.fit(X[seleccionadas],y[seleccionadas])\n",
    "    # Obtenemos las salidas con leaveOneOut (para no tener en cuenta las instancias seleccionadas como vecinos de sí mismas)\n",
    "    salidas = leaveOneOut(knn, X, y)\n",
    "\n",
    "    # Calculamos la precisión\n",
    "    acc = metrics.accuracy_score(salidas,y)\n",
    "\n",
    "    # Comenzamos las iteraciones:\n",
    "    #   En cada una, intercambiamos una instancia seleccionada con una que no lo está y comprobamos si mejora la precisión\n",
    "    for i in range(0, iteraciones):\n",
    "        # Seleccionamos un índice de manera aleatoria que nos indica la instancia a eliminar de las seleccionadas: randint de Numpy\n",
    "        quitar = np.random.randint(len(seleccionadas))\n",
    "        # Seleccionamos un índice de manera aleatoria que nos indica la instancia a añadir a las seleccionadas: randint de Numpy\n",
    "        poner = np.random.randint(len(noSeleccionadas))\n",
    "        # Guardamos el ejemplo eliminado\n",
    "        aux = seleccionadas[quitar]\n",
    "        # Añadimos la nueva instancia seleccionada sustituyendo la que se elimina: intercambio en las listas de seleccionados y no seleccionados\n",
    "        # <RELLENAR>\n",
    "        seleccionadas[quitar] = noSeleccionadas[poner]\n",
    "        noSeleccionadas[poner] = aux\n",
    "        # Entrenamos de nuevo kNN\n",
    "        knn = knn.fit(X[seleccionadas], y[seleccionadas])\n",
    "        \n",
    "        # Calculamos la precisión de la solución actual\n",
    "        # Obtenemos las salidas con leaveOneOut (para no tener en cuenta las instancias seleccionadas como vecinos de sí mismas)\n",
    "        salidas = leaveOneOut(knn, X, y)\n",
    "        # Calculamos la precisión\n",
    "        accNew = metrics.accuracy_score(salidas,y)\n",
    "\n",
    "        # Si la precisión actual es peor que la anterior, devolvemos la instancia eliminada a las seleccionadas\n",
    "        # Sino si la precisión de la solución actual es mejor o igual que la anterior, guardamos la precisión y\n",
    "        #  añadimos la instancia eliminada a las no seleccionadas\n",
    "        # <RELLENAR>\n",
    "        if(accNew < acc):\n",
    "            noSeleccionadas[poner] = seleccionadas[quitar]\n",
    "            seleccionadas[quitar] = aux\n",
    "        else:\n",
    "            acc = accNew\n",
    "\n",
    "        if i % 100 == 0:\n",
    "            print(\"precision en iteracion {}: {}\".format(i, acc))\n",
    "\n",
    "    # A partir de las seleccionadas creamos la máscara de instancias seleccionadas \n",
    "    # donde True en la posición i indica que la instancia i es seleccionada\n",
    "    S = np.array(([False]*X.shape[0]))\n",
    "    S[seleccionadas] = True\n",
    "\n",
    "    return S"
   ]
  },
  {
   "cell_type": "code",
   "execution_count": 55,
   "id": "2ffab643-e721-4917-8933-35c3b84abee5",
   "metadata": {},
   "outputs": [],
   "source": [
    "def sinSeleccion(X, y):\n",
    "    S = np.array(([True]*X.shape[0]))\n",
    "    return S"
   ]
  },
  {
   "cell_type": "markdown",
   "id": "ff04cf75-7cf7-4191-b000-117af6eb196c",
   "metadata": {},
   "source": [
    "## Comparación métodos knn"
   ]
  },
  {
   "cell_type": "code",
   "execution_count": 56,
   "id": "20e66d06-5847-4a85-8607-44285941ac8c",
   "metadata": {},
   "outputs": [
    {
     "name": "stdout",
     "output_type": "stream",
     "text": [
      "Ejecutando sinSeleccion...\n",
      "Resultados sinSeleccion python\n",
      "Precisión en train: 0.5472154963680388\n",
      "Precisión en test: 0.6346153846153846\n",
      "Reducción sinSeleccion: 413 de 413\n",
      "Reducción: 0.00%\n",
      "Ejecutando ENN...\n",
      "Resultados ENN python\n",
      "Precisión en train: 0.6271186440677966\n",
      "Precisión en test: 0.5961538461538461\n",
      "Reducción ENN: 254 de 413\n",
      "Reducción: 38.50%\n",
      "Ejecutando CNN...\n",
      "CNN, fin de iteración, fallados: 195, ejemplos en S: 197\n",
      "CNN, fin de iteración, fallados: 59, ejemplos en S: 256\n",
      "CNN, fin de iteración, fallados: 11, ejemplos en S: 267\n",
      "CNN, fin de iteración, fallados: 0, ejemplos en S: 267\n",
      "Resultados CNN python\n",
      "Precisión en train: 0.4891041162227603\n",
      "Precisión en test: 0.5480769230769231\n",
      "Reducción CNN: 267 de 413\n",
      "Reducción: 35.35%\n",
      "Ejecutando RMHC...\n",
      "precision en iteracion 0: 0.5108958837772397\n",
      "precision en iteracion 100: 0.6368038740920097\n",
      "precision en iteracion 200: 0.6658595641646489\n",
      "precision en iteracion 300: 0.6949152542372882\n",
      "precision en iteracion 400: 0.7021791767554479\n",
      "precision en iteracion 500: 0.7167070217917676\n",
      "precision en iteracion 600: 0.7167070217917676\n",
      "precision en iteracion 700: 0.7167070217917676\n",
      "precision en iteracion 800: 0.7191283292978208\n",
      "precision en iteracion 900: 0.7191283292978208\n",
      "Resultados RMHC python\n",
      "Precisión en train: 0.5351089588377724\n",
      "Precisión en test: 0.5096153846153846\n",
      "Reducción RMHC: 41 de 413\n",
      "Reducción: 90.07%\n"
     ]
    }
   ],
   "source": [
    "# Establecemos una lista con las funciones de los métodos de selección incluyendo el de no hacer selección\n",
    "metodos = (sinSeleccion, ENN, CNN, RMHC)\n",
    "# Obtenemos el número de métodos \n",
    "nMetodos =len(metodos)\n",
    "\n",
    "# Inicializamos las variables para guardar los resultados\n",
    "S = np.zeros((nMetodos, X_train.shape[0]))\n",
    "accTrain = np.zeros((nMetodos))\n",
    "accTest = np.zeros((nMetodos))\n",
    "reduction = np.zeros((nMetodos))\n",
    "for i, metodo in enumerate(metodos):\n",
    "    # Ejecutamos cada método con knn y los conjuntos de train y test de iris, ponemos verbose=False\n",
    "    S[i, :], accTrain[i], accTest[i], reduction[i], _ = ejecutaMetodoIS(metodo, knn, X_train, y_train.ravel(), X_test, y_test.ravel(), verbose=True)"
   ]
  },
  {
   "cell_type": "markdown",
   "id": "e4fde2db-3680-400b-a52b-8195ebda20b1",
   "metadata": {},
   "source": [
    "## Comparación métodos arboles de decisión"
   ]
  },
  {
   "cell_type": "code",
   "execution_count": 57,
   "id": "b09dc87d-2e93-4f03-acee-92bb5d638381",
   "metadata": {},
   "outputs": [
    {
     "name": "stdout",
     "output_type": "stream",
     "text": [
      "Ejecutando sinSeleccion...\n",
      "Resultados sinSeleccion python\n",
      "Precisión en train: 0.9903147699757869\n",
      "Precisión en test: 0.6346153846153846\n",
      "Reducción sinSeleccion: 413 de 413\n",
      "Reducción: 0.00%\n",
      "Número de reglas: 231\n",
      "Ejecutando ENN...\n",
      "Resultados ENN python\n",
      "Precisión en train: 0.738498789346247\n",
      "Precisión en test: 0.5673076923076923\n",
      "Reducción ENN: 254 de 413\n",
      "Reducción: 38.50%\n",
      "Número de reglas: 89\n",
      "Ejecutando CNN...\n",
      "CNN, fin de iteración, fallados: 195, ejemplos en S: 197\n",
      "CNN, fin de iteración, fallados: 59, ejemplos en S: 256\n",
      "CNN, fin de iteración, fallados: 11, ejemplos en S: 267\n",
      "CNN, fin de iteración, fallados: 0, ejemplos en S: 267\n",
      "Resultados CNN python\n",
      "Precisión en train: 0.837772397094431\n",
      "Precisión en test: 0.6153846153846154\n",
      "Reducción CNN: 267 de 413\n",
      "Reducción: 35.35%\n",
      "Número de reglas: 193\n",
      "Ejecutando RMHC...\n",
      "precision en iteracion 0: 0.5108958837772397\n",
      "precision en iteracion 100: 0.6368038740920097\n",
      "precision en iteracion 200: 0.6658595641646489\n",
      "precision en iteracion 300: 0.6949152542372882\n",
      "precision en iteracion 400: 0.7021791767554479\n",
      "precision en iteracion 500: 0.7167070217917676\n",
      "precision en iteracion 600: 0.7167070217917676\n",
      "precision en iteracion 700: 0.7167070217917676\n",
      "precision en iteracion 800: 0.7191283292978208\n",
      "precision en iteracion 900: 0.7191283292978208\n",
      "Resultados RMHC python\n",
      "Precisión en train: 0.5714285714285714\n",
      "Precisión en test: 0.49038461538461536\n",
      "Reducción RMHC: 41 de 413\n",
      "Reducción: 90.07%\n",
      "Número de reglas: 23\n"
     ]
    }
   ],
   "source": [
    "metodos = (sinSeleccion, ENN, CNN, RMHC)\n",
    "# Obtenemos el número de métodos \n",
    "nMetodos =len(metodos)\n",
    "arbol = tree.DecisionTreeClassifier()\n",
    "# Inicializamos las variables para guardar los resultados\n",
    "S = np.zeros((nMetodos, X_train.shape[0]))\n",
    "accTrain = np.zeros((nMetodos))\n",
    "accTest = np.zeros((nMetodos))\n",
    "reduction = np.zeros((nMetodos))\n",
    "nRules = np.zeros((nMetodos))\n",
    "for i, metodo in enumerate(metodos):\n",
    "    # Ejecutamos cada método con knn y los conjuntos de train y test de iris, ponemos verbose=False\n",
    "    arbol = tree.DecisionTreeClassifier(criterion='entropy', random_state=123)\n",
    "    S[i, :], accTrain[i], accTest[i], reduction[i], nRules[i] = ejecutaMetodoIS(metodo, arbol, X_train, y_train.ravel(), X_test, y_test.ravel(), verbose=True)"
   ]
  },
  {
   "cell_type": "markdown",
   "id": "824044ab-1383-4289-8a4d-230d21745dfe",
   "metadata": {},
   "source": [
    "## Conclusiones finales"
   ]
  },
  {
   "cell_type": "markdown",
   "id": "5ec7640a-ff3c-443a-8515-181f26240d99",
   "metadata": {},
   "source": [
    "En conclusión nuestro modelo elegido para la resolución del problema, que es filtro ANOVA usando knn con estos hiperparámetros: {'KNN__n_neighbors': 5, 'KNN__p': 3, 'KNN__weights': 'uniform'}."
   ]
  },
  {
   "cell_type": "markdown",
   "id": "090e23b6-8f5b-4c24-9127-a2318f6e409d",
   "metadata": {},
   "source": [
    "No obtenemos unos accuracys muy altos debido a que las medidas son tomadas por la naturaleza por lo que no siguen una estructura lineal del todo predecible. Además nuestro dataset no es lo demasiado amplio para poder generalizar correctamente."
   ]
  }
 ],
 "metadata": {
  "kernelspec": {
   "display_name": "Python 3 (ipykernel)",
   "language": "python",
   "name": "python3"
  },
  "language_info": {
   "codemirror_mode": {
    "name": "ipython",
    "version": 3
   },
   "file_extension": ".py",
   "mimetype": "text/x-python",
   "name": "python",
   "nbconvert_exporter": "python",
   "pygments_lexer": "ipython3",
   "version": "3.8.10"
  }
 },
 "nbformat": 4,
 "nbformat_minor": 5
}
